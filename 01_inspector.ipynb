{
 "cells": [
  {
   "cell_type": "code",
   "execution_count": null,
   "metadata": {},
   "outputs": [],
   "source": [
    "# Copyright 2022 Google LLC\n",
    "#\n",
    "# Licensed under the Apache License, Version 2.0 (the \"License\");\n",
    "# you may not use this file except in compliance with the License.\n",
    "# You may obtain a copy of the License at\n",
    "# \n",
    "#     https://www.apache.org/licenses/LICENSE-2.0\n",
    "# \n",
    "# Unless required by applicable law or agreed to in writing, software\n",
    "# distributed under the License is distributed on an \"AS IS\" BASIS,\n",
    "# WITHOUT WARRANTIES OR CONDITIONS OF ANY KIND, either express or implied.\n",
    "# See the License for the specific language governing permissions and\n",
    "# limitations under the License."
   ]
  },
  {
   "cell_type": "code",
   "execution_count": null,
   "metadata": {},
   "outputs": [],
   "source": [
    "#| default_exp inspector"
   ]
  },
  {
   "cell_type": "markdown",
   "metadata": {},
   "source": [
    "# inspector -- An inspector panel for a map.\n",
    "\n",
    "> A simple API for displaying an inspector panel that shows results of querying map data."
   ]
  },
  {
   "cell_type": "code",
   "execution_count": null,
   "metadata": {},
   "outputs": [],
   "source": [
    "#|hide\n",
    "from nbdev.showdoc import *\n",
    "from earthengine_jupyter.map import *"
   ]
  },
  {
   "cell_type": "code",
   "execution_count": null,
   "metadata": {},
   "outputs": [],
   "source": [
    "#|export\n",
    "from collections import OrderedDict\n",
    "import ee\n",
    "import ipytree"
   ]
  },
  {
   "cell_type": "code",
   "execution_count": null,
   "metadata": {},
   "outputs": [],
   "source": [
    "#|export\n",
    "\n",
    "# Map scale at Level 0 in meters/pixel\n",
    "SCALE_LEVEL_0 = 156543.03392\n",
    "\n",
    "class MapInspector(ipytree.Tree):\n",
    "    \"\"\"Class representing an inspector tool that responds to map events.\"\"\"\n",
    "    \n",
    "    def __init__(self, map_object=None, *args, **kwargs):\n",
    "\n",
    "        point_folder = ipytree.Node('Point', icon='map')\n",
    "        pixels_folder = ipytree.Node('Pixels', icon='archive')\n",
    "        objects_folder = ipytree.Node('Objects', icon='archive')\n",
    "        \n",
    "        self.map_object = map_object\n",
    "        self.layout.width = '40%'\n",
    "        self.layout.max_height = '400px'\n",
    "        self.layout.border = 'solid'\n",
    "        self.layout.overflow = 'scroll'\n",
    "\n",
    "        super(MapInspector, self).__init__(\n",
    "            nodes=[point_folder, pixels_folder, objects_folder],\n",
    "            *args, \n",
    "            **kwargs)\n",
    "\n",
    "        if map_object:\n",
    "            self.set_map(map_object)\n",
    "            \n",
    "        self.update_inspector()\n",
    "    \n",
    "    @property\n",
    "    def point_node(self):\n",
    "        return self.nodes[0]\n",
    "    \n",
    "    @point_node.setter\n",
    "    def point_node(self, new_point_node):\n",
    "        #(lat, lon) = new_coords\n",
    "        _temp_nodes = list(self.nodes)\n",
    "        _temp_nodes[0] = new_point_node\n",
    "        self.nodes = _temp_nodes\n",
    "    \n",
    "    @property\n",
    "    def pixels_node(self):\n",
    "        return self.nodes[1]\n",
    "    \n",
    "    @property\n",
    "    def objects_node(self):\n",
    "        return self.nodes[2]\n",
    "    \n",
    "    def update_inspector(self, coords=None):\n",
    "        \"\"\"Update information in the inspector tree.\"\"\"\n",
    "            \n",
    "        def _order_items(item_dict, ordering_list):\n",
    "            \"\"\"Orders dictionary items in a specified order.\"\"\"\n",
    "            list_of_tuples = [(key, item_dict[key]) for key in [x for x in ordering_list if x in item_dict.keys()]]\n",
    "            return dict(list_of_tuples)  \n",
    "    \n",
    "        def _process_info(info):\n",
    "            node_list = []    \n",
    "            if isinstance(info, list):\n",
    "                for count, item in enumerate(info):\n",
    "                    if isinstance(item, (list, dict)):\n",
    "                        node_list.append(ipytree.Node(f'{count}', nodes = _process_info(item), opened=False))\n",
    "                    else:\n",
    "                        node_list.append(ipytree.Node(f'{count}: {item}'))\n",
    "            elif isinstance(info, dict):\n",
    "                for k,v in info.items():\n",
    "                    if isinstance(v, (list, dict)):\n",
    "                        node_list.append(ipytree.Node(f'{k}', nodes = _process_info(v), opened=False))\n",
    "                    else:\n",
    "                        node_list.append(ipytree.Node(f'{k}: {v}'))\n",
    "            else:\n",
    "                node_list.append(ipytree.Node(f'{info}'))\n",
    "            return node_list\n",
    "    \n",
    "        # Disable the Pixels and Objects folders if the map does not have any\n",
    "        # layers. This assumes the map has a single basemap layer.\n",
    "        if self.map_object:\n",
    "            if len(self.map_object.layers) > 1:\n",
    "                self.pixels_node.disabled = False\n",
    "                self.objects_node.disabled = False\n",
    "            else:\n",
    "                self.pixels_node.disabled = True\n",
    "                self.objects_node.disabled = True\n",
    "        else:\n",
    "            self.pixels_node.disabled = True\n",
    "            self.objects_node.disabled = True\n",
    "        \n",
    "        if coords:\n",
    "            (lat, lon) = coords\n",
    "            \n",
    "            # Clear the inspector folders before recalculating outputs.\n",
    "            self.point_node.nodes = []\n",
    "            self.pixels_node.nodes = []\n",
    "            self.objects_node.nodes = []\n",
    "            \n",
    "            # Update the Point folder\n",
    "            point_nodes = [\n",
    "                ipytree.Node(f'Longitude: {lon:.6f}'),\n",
    "                ipytree.Node(f'Latitutde: {lat:.6f}'),\n",
    "                ipytree.Node(\n",
    "                    f'Zoom Level: {self.map_object.zoom:.0f}'\n",
    "                ),\n",
    "                ipytree.Node(\n",
    "                    f'Scale (approx. m/px): '\n",
    "                    f'{SCALE_LEVEL_0 / 2**self.map_object.zoom:.2f}'\n",
    "                )\n",
    "            ]\n",
    "            _point_node = ipytree.Node(f'Point ({lon:.2f}, {lat:.2f})', nodes=point_nodes)\n",
    "            self.point_node = _point_node\n",
    "\n",
    "            \n",
    "            # Update the Pixels folder\n",
    "            pixel_nodes = []\n",
    "            for layer in self.map_object.layers:\n",
    "                if not layer.base:\n",
    "                    ee_type = ee.Algorithms.ObjectType(layer.ee_object).getInfo()\n",
    "\n",
    "                    if ee_type == 'Image':\n",
    "                        value_dict = layer.ee_object.reduceRegion(\n",
    "                                reducer=ee.Reducer.mean(),\n",
    "                                geometry=ee.Geometry.Point(lon, lat),\n",
    "                                scale=30,\n",
    "                                bestEffort=True\n",
    "                            ).getInfo()\n",
    "                        num_bands = len(value_dict.keys())\n",
    "\n",
    "                        layer_node = ipytree.Node(f'{layer.name}: Image ({num_bands} bands)')\n",
    "\n",
    "                        has_unmasked_pixel = False\n",
    "                        for bandname in layer.ee_object.bandNames().getInfo():          \n",
    "                            if value_dict[bandname] is not None:\n",
    "                                has_unmasked_pixel = True\n",
    "                            layer_node.add_node(\n",
    "                              ipytree.Node(f'{bandname}: {value_dict[bandname]}')\n",
    "                            )\n",
    "                    \n",
    "                        if not has_unmasked_pixel:\n",
    "                            layer_node.nodes = [\n",
    "                                ipytree.Node(f'No unmasked pixels at clicked point.'),\n",
    "                            ] \n",
    "                        pixel_nodes.append(layer_node)        \n",
    "            self.pixels_node.nodes = pixel_nodes\n",
    "            \n",
    "            # Update the Objects folder\n",
    "            object_nodes = []\n",
    "            for layer in self.map_object.layers:\n",
    "                if not layer.base:\n",
    "                    \n",
    "                    ee_type = ee.Algorithms.ObjectType(layer.ee_object).getInfo()                    \n",
    "                    layer_info = layer.ee_object.getInfo()\n",
    "                    \n",
    "                    # Order the layer information.\n",
    "                    ordering_list = ['type', 'id', 'version', 'bands', 'properties']\n",
    "                    layer_info = _order_items(layer_info, ordering_list)\n",
    "                    \n",
    "                    layer_node = ipytree.Node(f'{layer.name}: {ee_type} ({len(layer_info[\"bands\"])} bands)', nodes=_process_info(layer_info))\n",
    "                    \n",
    "                    object_nodes.append(layer_node)\n",
    "                    \n",
    "            self.objects_node.nodes = object_nodes\n",
    "                \n",
    "    \n",
    "    def register_map(self, map_object):\n",
    "        def handle_interaction(type, event, coordinates):\n",
    "            if type == 'click':\n",
    "                self.update_inspector(coordinates)\n",
    "        map_object.on_interaction(handle_interaction)\n",
    "            \n",
    "    def set_map(self, map_object):\n",
    "        self.map_object = map_object\n",
    "        self.register_map(map_object)\n",
    "\n",
    "    def get_map(self):\n",
    "        return self.map_object"
   ]
  },
  {
   "cell_type": "code",
   "execution_count": null,
   "metadata": {},
   "outputs": [
    {
     "data": {
      "application/vnd.jupyter.widget-view+json": {
       "model_id": "de088a7c8ad04600aa4db44676a74196",
       "version_major": 2,
       "version_minor": 0
      },
      "text/plain": [
       "MapInspector(layout=Layout(border='solid', max_height='400px', overflow='scroll', width='40%'), nodes=(Node(ic…"
      ]
     },
     "metadata": {},
     "output_type": "display_data"
    }
   ],
   "source": [
    "inspector1 = MapInspector()\n",
    "inspector1"
   ]
  },
  {
   "cell_type": "markdown",
   "metadata": {},
   "source": [
    "## Example"
   ]
  },
  {
   "cell_type": "code",
   "execution_count": null,
   "metadata": {},
   "outputs": [],
   "source": [
    "import ee\n",
    "import ipywidgets as widgets\n",
    "from earthengine_jupyter.map import JupyterMap"
   ]
  },
  {
   "cell_type": "code",
   "execution_count": null,
   "metadata": {},
   "outputs": [],
   "source": [
    "ee.Initialize()"
   ]
  },
  {
   "cell_type": "code",
   "execution_count": null,
   "metadata": {},
   "outputs": [
    {
     "data": {
      "application/vnd.jupyter.widget-view+json": {
       "model_id": "adc26c0279504de5873f150111fae84b",
       "version_major": 2,
       "version_minor": 0
      },
      "text/plain": [
       "HBox(children=(JupyterMap(center=[0.0, 0.0], controls=(ZoomControl(options=['position', 'zoom_in_text', 'zoom_…"
      ]
     },
     "metadata": {},
     "output_type": "display_data"
    }
   ],
   "source": [
    "map = JupyterMap()\n",
    "inspector2 = MapInspector(map_object=map)\n",
    "display(\n",
    "    widgets.HBox([\n",
    "        map,\n",
    "        inspector2\n",
    "    ],\n",
    "    layout=widgets.Layout(border='1px solid black')))\n",
    "\n",
    "map.addLayer(ee.Image.pixelLonLat(), {'min':-90, 'max':90, 'opacity':0.5}, 'LonLat')\n",
    "map.addLayer(\n",
    "    ee.Image('LANDSAT/LC09/C02/T1_L2/LC09_187058_20220105'),\n",
    "    {'min':0, 'max':90, 'opacity':0.5},\n",
    "    'Landsat')\n"
   ]
  },
  {
   "cell_type": "code",
   "execution_count": null,
   "metadata": {},
   "outputs": [],
   "source": [
    "# Add another layer. Note that Inspector will not update until clicking again on the map.\n",
    "map.addLayer(ee.Image(0), {'min':0, 'max':1, 'opacity':0.5}, 'Constant Image', False)"
   ]
  },
  {
   "cell_type": "code",
   "execution_count": null,
   "metadata": {},
   "outputs": [
    {
     "data": {
      "application/vnd.jupyter.widget-view+json": {
       "model_id": "839e04169c9a43c5a20c8da9e505ac58",
       "version_major": 2,
       "version_minor": 0
      },
      "text/plain": [
       "HBox(children=(JupyterMap(center=[0.0, 0.0], controls=(ZoomControl(options=['position', 'zoom_in_text', 'zoom_…"
      ]
     },
     "metadata": {},
     "output_type": "display_data"
    }
   ],
   "source": [
    "# Add another map to see if they are connected.\n",
    "map3 = JupyterMap()\n",
    "inspector3 = MapInspector(map_object=map3)\n",
    "display(widgets.HBox([map3, inspector3]))\n",
    "map3.addLayer(ee.Image.pixelLonLat(), {'min':-90, 'max':90, 'opacity':0.2}, 'MyLayer3')\n"
   ]
  },
  {
   "cell_type": "code",
   "execution_count": null,
   "metadata": {},
   "outputs": [],
   "source": [
    "# Link the maps together\n",
    "l = widgets.link((map, 'center'), (map3, 'center'))"
   ]
  },
  {
   "cell_type": "code",
   "execution_count": null,
   "metadata": {},
   "outputs": [],
   "source": []
  }
 ],
 "metadata": {
  "kernelspec": {
   "display_name": "Python 3 (ipykernel)",
   "language": "python",
   "name": "python3"
  }
 },
 "nbformat": 4,
 "nbformat_minor": 4
}
