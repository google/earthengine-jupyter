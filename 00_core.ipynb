{
 "cells": [
  {
   "cell_type": "code",
   "execution_count": null,
   "id": "a299e0c1-82bf-4290-aab9-38397b05b533",
   "metadata": {},
   "outputs": [],
   "source": [
    "#|hide\n",
    "# Copyright 2022 Google LLC\n",
    "#\n",
    "# Licensed under the Apache License, Version 2.0 (the \"License\");\n",
    "# you may not use this file except in compliance with the License.\n",
    "# You may obtain a copy of the License at\n",
    "# \n",
    "#     https://www.apache.org/licenses/LICENSE-2.0\n",
    "# \n",
    "# Unless required by applicable law or agreed to in writing, software\n",
    "# distributed under the License is distributed on an \"AS IS\" BASIS,\n",
    "# WITHOUT WARRANTIES OR CONDITIONS OF ANY KIND, either express or implied.\n",
    "# See the License for the specific language governing permissions and\n",
    "# limitations under the License."
   ]
  },
  {
   "cell_type": "code",
   "execution_count": null,
   "id": "93bd9280-7fdc-47b3-9ab6-e5892cbc8a4b",
   "metadata": {},
   "outputs": [],
   "source": [
    "#| default_exp core"
   ]
  },
  {
   "cell_type": "markdown",
   "id": "00063c01-2b45-4a56-b50a-aa20d10f4803",
   "metadata": {},
   "source": [
    "# core module\n",
    "\n",
    "> Core tools for working in Jupyter environments."
   ]
  },
  {
   "cell_type": "code",
   "execution_count": null,
   "id": "3d11593e-2715-4345-8831-2b1ceccac939",
   "metadata": {},
   "outputs": [],
   "source": [
    "#|hide\n",
    "from nbdev.showdoc import *"
   ]
  },
  {
   "cell_type": "markdown",
   "id": "0a1fbd0b-4b5d-493b-bda2-9aa0603da7d1",
   "metadata": {},
   "source": [
    "## Tools"
   ]
  },
  {
   "cell_type": "code",
   "execution_count": null,
   "id": "c34615c6-17a5-476e-89ff-9b195f8564ed",
   "metadata": {},
   "outputs": [],
   "source": [
    "#|export\n",
    "def colab_gee_setup():\n",
    "  \"\"\"Setup Colab so it can use the earthengine-jupyter package.\n",
    "  \n",
    "  * Install earthengine-jupyter package.\n",
    "  * Authenticate, if needed.\"\"\"\n",
    "  \n",
    "  import ee\n",
    "  import os\n",
    "\n",
    "  print('Verifying environment is setup for earthengine-jupyter...')\n",
    "    \n",
    "  try:\n",
    "    import ee_jupyter\n",
    "    print('\\N{check mark} The package earthengine-jupyter is already installed.')\n",
    "  except ModuleNotFoundError:\n",
    "    print('\\N{check mark} Installing earthengine-jupyter...')\n",
    "    result = os.system('pip -q install earthengine-jupyter')\n",
    "  \n",
    "  if os.path.exists(ee.oauth.get_credentials_path()):\n",
    "    print('\\N{check mark} Authentication credentials were found.')\n",
    "  else:\n",
    "    ee.Authenticate()\n",
    "\n",
    "  print('\\N{check mark} Done.')"
   ]
  },
  {
   "cell_type": "code",
   "execution_count": null,
   "id": "7f1a180e-2348-4d3b-9b87-3d1c7471713c",
   "metadata": {},
   "outputs": [
    {
     "name": "stdout",
     "output_type": "stream",
     "text": [
      "Verifying environment is setup for earthengine-jupyter...\n",
      "✓ The package earthengine-jupyter is already installed.\n",
      "✓ Authentication credentials were found.\n",
      "✓ Done.\n"
     ]
    }
   ],
   "source": [
    "colab_gee_setup()"
   ]
  },
  {
   "cell_type": "code",
   "execution_count": null,
   "id": "a36ef3eb-7720-47cc-92e4-23faa6141baf",
   "metadata": {},
   "outputs": [],
   "source": [
    "#| hide\n",
    "import nbdev; nbdev.nbdev_export()"
   ]
  }
 ],
 "metadata": {
  "kernelspec": {
   "display_name": "Python 3 (ipykernel)",
   "language": "python",
   "name": "python3"
  }
 },
 "nbformat": 4,
 "nbformat_minor": 5
}
