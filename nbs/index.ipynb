{
 "cells": [
  {
   "cell_type": "raw",
   "metadata": {},
   "source": [
    "---\n",
    "execute:\n",
    "    enabled: true\n",
    "---"
   ]
  },
  {
   "cell_type": "code",
   "execution_count": null,
   "metadata": {},
   "outputs": [],
   "source": [
    "#|hide\n",
    "# Copyright 2022 Google LLC\n",
    "#\n",
    "# Licensed under the Apache License, Version 2.0 (the \"License\");\n",
    "# you may not use this file except in compliance with the License.\n",
    "# You may obtain a copy of the License at\n",
    "# \n",
    "#     https://www.apache.org/licenses/LICENSE-2.0\n",
    "# \n",
    "# Unless required by applicable law or agreed to in writing, software\n",
    "# distributed under the License is distributed on an \"AS IS\" BASIS,\n",
    "# WITHOUT WARRANTIES OR CONDITIONS OF ANY KIND, either express or implied.\n",
    "# See the License for the specific language governing permissions and\n",
    "# limitations under the License."
   ]
  },
  {
   "cell_type": "markdown",
   "metadata": {},
   "source": [
    "# earthengine-jupyter\n",
    "\n",
    "> Tools for working with the Earth Engine from a Jupyter development environment"
   ]
  },
  {
   "cell_type": "markdown",
   "metadata": {},
   "source": [
    "**NOTICE: This is an experimental project and is not an officially supported Google project. You are welcome to use it, but we do not guarantee stability.**"
   ]
  },
  {
   "cell_type": "markdown",
   "metadata": {},
   "source": [
    "## Setup"
   ]
  },
  {
   "cell_type": "code",
   "execution_count": null,
   "metadata": {},
   "outputs": [],
   "source": [
    "try:\n",
    "  import ee_jupyter\n",
    "  print('ee_jupyter was already installed.')\n",
    "except ModuleNotFoundError:\n",
    "  print('ee_jupyter was not found. Installing now...')\n",
    "  import os\n",
    "  result = os.system('pip -q install earthengine-jupyter')"
   ]
  },
  {
   "cell_type": "markdown",
   "metadata": {},
   "source": [
    "## How to use"
   ]
  },
  {
   "cell_type": "markdown",
   "metadata": {},
   "source": [
    "This lib contains a `Map` class that can be used to display an interactive map."
   ]
  },
  {
   "cell_type": "code",
   "execution_count": null,
   "metadata": {},
   "outputs": [],
   "source": [
    "import ee\n",
    "from ee_jupyter.core import authenticate_if_needed\n",
    "from ee_jupyter.ipyleaflet import Map\n",
    "from ee_jupyter.layout import MapWithInspector\n",
    "import ipywidgets as widgets"
   ]
  },
  {
   "cell_type": "code",
   "execution_count": null,
   "metadata": {},
   "outputs": [],
   "source": [
    "authenticate_if_needed()"
   ]
  },
  {
   "cell_type": "code",
   "execution_count": null,
   "metadata": {},
   "outputs": [],
   "source": [
    "# Intialize the Earth Engine client library.\n",
    "ee.Initialize()"
   ]
  },
  {
   "cell_type": "code",
   "execution_count": null,
   "metadata": {},
   "outputs": [],
   "source": [
    "map1 = Map(center=(37.5924, -122.09), zoom=8)\n",
    "map1"
   ]
  },
  {
   "cell_type": "markdown",
   "metadata": {},
   "source": [
    "Define an Earth Engine image layer, and add it to the interactive map."
   ]
  },
  {
   "cell_type": "code",
   "execution_count": null,
   "metadata": {},
   "outputs": [],
   "source": [
    "img1 = ee.Image(\"LANDSAT/LC09/C02/T1_L2/LC09_044034_20220127\")\n",
    "visualization = {\n",
    "    'bands': ['SR_B4', 'SR_B3', 'SR_B2'],\n",
    "    'min': 0.2 / 0.0000275,\n",
    "    'max': 0.4 / 0.0000275,\n",
    "}\n",
    "map1.addLayer(eeObject=img1, visParams=visualization, name='Landsat scene')"
   ]
  },
  {
   "cell_type": "markdown",
   "metadata": {},
   "source": [
    "We can also create an inspector object and associate it with the previously created map."
   ]
  },
  {
   "cell_type": "code",
   "execution_count": null,
   "metadata": {},
   "outputs": [],
   "source": [
    "from ee_jupyter.ipyleaflet import Inspector\n",
    "\n",
    "inspector1 = Inspector(map_object=map1)\n",
    "inspector1"
   ]
  },
  {
   "cell_type": "markdown",
   "metadata": {},
   "source": [
    "Typically when you create a inspector object, you will want to display it with the map. The `MapWithInpsector` object adds a button that toggles the inspector functionality."
   ]
  },
  {
   "cell_type": "markdown",
   "metadata": {},
   "source": [
    "The map below shows a Sentinel-2 image covering Paris. Click on the inspector toggle button to open the inspector."
   ]
  },
  {
   "cell_type": "code",
   "execution_count": null,
   "metadata": {},
   "outputs": [],
   "source": [
    "map_init_paris = {'center':(49.4, 2.3), 'zoom':8}\n",
    "m = MapWithInspector(**map_init_paris)\n",
    "image = ee.Image('COPERNICUS/S2_SR_HARMONIZED/20220604T104619_20220604T104620_T31UDQ')\n",
    "m.map.addLayer(image, {'bands': ['B4', 'B3', 'B2'], 'max': 2500}, 'Landsat image')\n",
    "m"
   ]
  },
  {
   "cell_type": "markdown",
   "metadata": {},
   "source": [
    ":::{.callout-tip}\n",
    "## Tip With Caption\n",
    "\n",
    "Note that when viewed on GitHub Pages you can manipulate Jupyter widgets independently, but the widgets do not interact with each other. To experience the cross-widget interactivity, open up this notebook in a Jupyter environment. \n",
    ":::"
   ]
  },
  {
   "cell_type": "markdown",
   "metadata": {},
   "source": [
    "# Displaying a Map Image"
   ]
  },
  {
   "cell_type": "markdown",
   "metadata": {},
   "source": [
    "If you want to display a static (non-interactive) image, you can do that as well.  The `embed=True` parameter will allow the image to be saved within the notebook."
   ]
  },
  {
   "cell_type": "code",
   "execution_count": null,
   "metadata": {},
   "outputs": [],
   "source": [
    "from IPython.display import Image\n",
    "\n",
    "\n",
    "visualization['dimensions'] = 400  # maximum dimension for the image\n",
    "url = img1.getThumbUrl(visualization)\n",
    "\n",
    "Image(url=url, format='png', embed=True)"
   ]
  }
 ],
 "metadata": {
  "kernelspec": {
   "display_name": "Python 3 (ipykernel)",
   "language": "python",
   "name": "python3"
  },
  "widgets": {
   "application/vnd.jupyter.widget-state+json": {
    "state": {
     "18534294b7404458989fce691d6dd928": {
      "model_module": "jupyter-leaflet",
      "model_module_version": "^0.17",
      "model_name": "LeafletAttributionControlModel",
      "state": {
       "_model_module_version": "^0.17",
       "_view_module_version": "^0.17",
       "options": [
        "position",
        "prefix"
       ],
       "position": "bottomright",
       "prefix": "ipyleaflet"
      }
     },
     "1e1aec83e42045bf9ccff2e7ea1f3552": {
      "model_module": "jupyter-leaflet",
      "model_module_version": "^0.17",
      "model_name": "LeafletWidgetControlModel",
      "state": {
       "_model_module": "jupyter-leaflet",
       "_model_module_version": "^0.17",
       "_view_count": null,
       "_view_module": "jupyter-leaflet",
       "_view_module_version": "^0.17",
       "options": [
        "position",
        "transparent_bg"
       ],
       "position": "topright",
       "widget": "IPY_MODEL_e63129a6b6214b86b55161f9b3b01707"
      }
     },
     "2319a7c35eb146fab3231d5b3c2d223f": {
      "model_module": "ipytree",
      "model_module_version": "^0.2",
      "model_name": "NodeModel",
      "state": {
       "_id": "6615fdb1-b4b4-4271-bdd5-1a3df55b6834",
       "_model_module_version": "^0.2",
       "_view_module_version": "^0.2",
       "name": "Click on the map to inspect the layers."
      }
     },
     "2625695324c1472cbab709507ae2db40": {
      "model_module": "jupyter-leaflet",
      "model_module_version": "^0.17",
      "model_name": "LeafletZoomControlModel",
      "state": {
       "_model_module_version": "^0.17",
       "_view_module_version": "^0.17",
       "options": [
        "position",
        "zoom_in_text",
        "zoom_in_title",
        "zoom_out_text",
        "zoom_out_title"
       ]
      }
     },
     "29efe12ec397463da27a60cd3b558f3f": {
      "model_module": "jupyter-leaflet",
      "model_module_version": "^0.17",
      "model_name": "LeafletMapStyleModel",
      "state": {
       "_model_module_version": "^0.17",
       "cursor": "crosshair"
      }
     },
     "2da9251158dd4165bdd4dbef7cef2d5b": {
      "model_module": "ipytree",
      "model_module_version": "^0.2",
      "model_name": "NodeModel",
      "state": {
       "_id": "e6535316-8fcc-48fa-99f7-402223e43e54",
       "_model_module_version": "^0.2",
       "_view_module_version": "^0.2",
       "name": "Click on the map to inspect the layers."
      }
     },
     "336ea372a26f40318a5efb5d3594ffbd": {
      "model_module": "@jupyter-widgets/base",
      "model_module_version": "2.0.0",
      "model_name": "LayoutModel",
      "state": {
       "width": "100%"
      }
     },
     "3c36a4f289d04fb2886e978be5b06a17": {
      "model_module": "@jupyter-widgets/base",
      "model_module_version": "2.0.0",
      "model_name": "LayoutModel",
      "state": {
       "width": "100%"
      }
     },
     "47bb304079cd400bbe098184343ad277": {
      "model_module": "@jupyter-widgets/base",
      "model_module_version": "2.0.0",
      "model_name": "LayoutModel",
      "state": {
       "max_height": "400px",
       "overflow": "scroll",
       "width": "0%"
      }
     },
     "4f8b472c81eb412f9f90be778d5b046f": {
      "model_module": "@jupyter-widgets/base",
      "model_module_version": "2.0.0",
      "model_name": "LayoutModel",
      "state": {
       "max_height": "400px",
       "overflow": "scroll",
       "width": "100%"
      }
     },
     "505a42fde6424bdfb971ae73d8a26c74": {
      "model_module": "@jupyter-widgets/base",
      "model_module_version": "2.0.0",
      "model_name": "LayoutModel",
      "state": {
       "height": "45px",
       "padding": "0px",
       "width": "45px"
      }
     },
     "51d3cd5c24bb40f48c1508c09a932f11": {
      "model_module": "jupyter-leaflet",
      "model_module_version": "^0.17",
      "model_name": "LeafletTileLayerModel",
      "state": {
       "_model_module_version": "^0.17",
       "_view_module_version": "^0.17",
       "name": "Landsat image",
       "options": [
        "attribution",
        "bounds",
        "detect_retina",
        "max_native_zoom",
        "max_zoom",
        "min_native_zoom",
        "min_zoom",
        "no_wrap",
        "tile_size",
        "tms",
        "zoom_offset"
       ],
       "url": "https://earthengine.googleapis.com/v1alpha/projects/earthengine-legacy/maps/4c51a3d4f17a77f561c5d23cff888f0b-53fbcb0a51533daa78bd3a67b97d62d9/tiles/{z}/{x}/{y}"
      }
     },
     "5d27cf14d73a41aeab2ea720a257ca70": {
      "model_module": "jupyter-leaflet",
      "model_module_version": "^0.17",
      "model_name": "LeafletMapStyleModel",
      "state": {
       "_model_module_version": "^0.17",
       "cursor": "move"
      }
     },
     "6339a07fac08447aa064cf7417a55f6e": {
      "model_module": "jupyter-leaflet",
      "model_module_version": "^0.17",
      "model_name": "LeafletMapStyleModel",
      "state": {
       "_model_module_version": "^0.17",
       "cursor": "crosshair"
      }
     },
     "682f82c511af4356a71ab51f4288b6e9": {
      "model_module": "jupyter-leaflet",
      "model_module_version": "^0.17",
      "model_name": "LeafletMapStyleModel",
      "state": {
       "_model_module_version": "^0.17",
       "cursor": "move"
      }
     },
     "6e2f1f92660c40d3b3dd67547e65f278": {
      "model_module": "ipytree",
      "model_module_version": "^0.2",
      "model_name": "TreeModel",
      "state": {
       "_model_module_version": "^0.2",
       "_view_module_version": "^0.2",
       "layout": "IPY_MODEL_47bb304079cd400bbe098184343ad277",
       "nodes": [
        "IPY_MODEL_2da9251158dd4165bdd4dbef7cef2d5b"
       ]
      }
     },
     "75f3da4f32104f3b99e6f0886fdd01fb": {
      "model_module": "@jupyter-widgets/controls",
      "model_module_version": "2.0.0",
      "model_name": "HBoxModel",
      "state": {
       "children": [
        "IPY_MODEL_b305b8311ddd4319920041f8c51cdc69",
        "IPY_MODEL_6e2f1f92660c40d3b3dd67547e65f278"
       ],
       "layout": "IPY_MODEL_7aef74e0d48b416eaab11172e171c3ee"
      }
     },
     "775711c799aa4a1e83a8871807e4e87a": {
      "model_module": "jupyter-leaflet",
      "model_module_version": "^0.17",
      "model_name": "LeafletTileLayerModel",
      "state": {
       "_model_module_version": "^0.17",
       "_view_module_version": "^0.17",
       "attribution": "Map tiles by <a href=\"http://stamen.com\">Stamen Design</a>, <a href=\"http://creativecommons.org/licenses/by/3.0\">CC BY 3.0</a> &mdash; Map data &copy; <a href=\"https://www.openstreetmap.org/copyright\">OpenStreetMap</a> contributors",
       "base": true,
       "max_zoom": 16,
       "min_zoom": 1,
       "name": "Stamen.Watercolor",
       "options": [
        "attribution",
        "bounds",
        "detect_retina",
        "max_native_zoom",
        "max_zoom",
        "min_native_zoom",
        "min_zoom",
        "no_wrap",
        "tile_size",
        "tms",
        "zoom_offset"
       ],
       "url": "https://stamen-tiles-a.a.ssl.fastly.net/watercolor/{z}/{x}/{y}.jpg"
      }
     },
     "7aef74e0d48b416eaab11172e171c3ee": {
      "model_module": "@jupyter-widgets/base",
      "model_module_version": "2.0.0",
      "model_name": "LayoutModel",
      "state": {}
     },
     "8e5a271e635948deb4e3362a6b1b91b2": {
      "model_module": "jupyter-leaflet",
      "model_module_version": "^0.17",
      "model_name": "LeafletLayersControlModel",
      "state": {
       "_model_module_version": "^0.17",
       "_view_module_version": "^0.17",
       "options": [
        "position"
       ],
       "position": "topright"
      }
     },
     "99287d20cfba47949e23c59052a876f5": {
      "model_module": "jupyter-leaflet",
      "model_module_version": "^0.17",
      "model_name": "LeafletMapModel",
      "state": {
       "_model_module_version": "^0.17",
       "_view_module_version": "^0.17",
       "bottom": 25573,
       "center": [
        37.5924,
        -122.09
       ],
       "controls": [
        "IPY_MODEL_9abf5ae099f048f5beaeeba9754b737e",
        "IPY_MODEL_18534294b7404458989fce691d6dd928",
        "IPY_MODEL_c2ab078daf744726a06e51b73d99e2ee"
       ],
       "default_style": "IPY_MODEL_6339a07fac08447aa064cf7417a55f6e",
       "dragging_style": "IPY_MODEL_682f82c511af4356a71ab51f4288b6e9",
       "east": -119.64660644531251,
       "fullscreen": false,
       "interpolation": "bilinear",
       "layers": [
        "IPY_MODEL_775711c799aa4a1e83a8871807e4e87a",
        "IPY_MODEL_b2350e4a5d2b4f199144a098c8452edf"
       ],
       "layout": "IPY_MODEL_336ea372a26f40318a5efb5d3594ffbd",
       "left": 10097,
       "modisdate": "2023-01-10",
       "north": 38.45789034424927,
       "options": [
        "bounce_at_zoom_limits",
        "box_zoom",
        "center",
        "close_popup_on_click",
        "double_click_zoom",
        "dragging",
        "fullscreen",
        "inertia",
        "inertia_deceleration",
        "inertia_max_speed",
        "interpolation",
        "keyboard",
        "keyboard_pan_offset",
        "keyboard_zoom_offset",
        "max_zoom",
        "min_zoom",
        "prefer_canvas",
        "scroll_wheel_zoom",
        "tap",
        "tap_tolerance",
        "touch_zoom",
        "world_copy_jump",
        "zoom",
        "zoom_animation_threshold",
        "zoom_delta",
        "zoom_snap"
       ],
       "prefer_canvas": false,
       "right": 10987,
       "south": 36.71687068791304,
       "style": "IPY_MODEL_bf58ec5d94f4449d9e9aea3c82654540",
       "top": 25173,
       "west": -124.53552246093751,
       "window_url": "http://localhost:8888/lab/workspaces/auto-c/tree/google/earthengine-jupyter/nbs/index.ipynb",
       "zoom": 8
      }
     },
     "9abf5ae099f048f5beaeeba9754b737e": {
      "model_module": "jupyter-leaflet",
      "model_module_version": "^0.17",
      "model_name": "LeafletZoomControlModel",
      "state": {
       "_model_module_version": "^0.17",
       "_view_module_version": "^0.17",
       "options": [
        "position",
        "zoom_in_text",
        "zoom_in_title",
        "zoom_out_text",
        "zoom_out_title"
       ]
      }
     },
     "a0f91845ebba48dbbf3f6bdd79323d6d": {
      "model_module": "jupyter-leaflet",
      "model_module_version": "^0.17",
      "model_name": "LeafletAttributionControlModel",
      "state": {
       "_model_module_version": "^0.17",
       "_view_module_version": "^0.17",
       "options": [
        "position",
        "prefix"
       ],
       "position": "bottomright",
       "prefix": "ipyleaflet"
      }
     },
     "b2350e4a5d2b4f199144a098c8452edf": {
      "model_module": "jupyter-leaflet",
      "model_module_version": "^0.17",
      "model_name": "LeafletTileLayerModel",
      "state": {
       "_model_module_version": "^0.17",
       "_view_module_version": "^0.17",
       "name": "Landsat scene",
       "options": [
        "attribution",
        "bounds",
        "detect_retina",
        "max_native_zoom",
        "max_zoom",
        "min_native_zoom",
        "min_zoom",
        "no_wrap",
        "tile_size",
        "tms",
        "zoom_offset"
       ],
       "url": "https://earthengine.googleapis.com/v1alpha/projects/earthengine-legacy/maps/6937350118cc01964c2600788ca9670e-11210a861d8ab34a09eab48e6043fc82/tiles/{z}/{x}/{y}"
      }
     },
     "b305b8311ddd4319920041f8c51cdc69": {
      "model_module": "jupyter-leaflet",
      "model_module_version": "^0.17",
      "model_name": "LeafletMapModel",
      "state": {
       "_model_module_version": "^0.17",
       "_view_module_version": "^0.17",
       "bottom": 22595,
       "center": [
        49.4,
        2.3
       ],
       "controls": [
        "IPY_MODEL_2625695324c1472cbab709507ae2db40",
        "IPY_MODEL_a0f91845ebba48dbbf3f6bdd79323d6d",
        "IPY_MODEL_8e5a271e635948deb4e3362a6b1b91b2",
        "IPY_MODEL_1e1aec83e42045bf9ccff2e7ea1f3552"
       ],
       "default_style": "IPY_MODEL_29efe12ec397463da27a60cd3b558f3f",
       "dragging_style": "IPY_MODEL_5d27cf14d73a41aeab2ea720a257ca70",
       "east": 4.735107421875001,
       "fullscreen": false,
       "interpolation": "bilinear",
       "layers": [
        "IPY_MODEL_e60c35ff7a49458ca1dc33059ad86f72",
        "IPY_MODEL_51d3cd5c24bb40f48c1508c09a932f11"
       ],
       "layout": "IPY_MODEL_3c36a4f289d04fb2886e978be5b06a17",
       "left": 32744,
       "modisdate": "2023-01-10",
       "north": 50.11001070896015,
       "options": [
        "bounce_at_zoom_limits",
        "box_zoom",
        "center",
        "close_popup_on_click",
        "double_click_zoom",
        "dragging",
        "fullscreen",
        "inertia",
        "inertia_deceleration",
        "inertia_max_speed",
        "interpolation",
        "keyboard",
        "keyboard_pan_offset",
        "keyboard_zoom_offset",
        "max_zoom",
        "min_zoom",
        "prefer_canvas",
        "scroll_wheel_zoom",
        "tap",
        "tap_tolerance",
        "touch_zoom",
        "world_copy_jump",
        "zoom",
        "zoom_animation_threshold",
        "zoom_delta",
        "zoom_snap"
       ],
       "prefer_canvas": false,
       "right": 33630,
       "south": 48.680080770292875,
       "style": "IPY_MODEL_f110c4c3bbe345469b89eebd1016fef0",
       "top": 22195,
       "west": -0.13183593750000003,
       "window_url": "http://localhost:8888/lab/workspaces/auto-c/tree/google/earthengine-jupyter/nbs/index.ipynb",
       "zoom": 8
      }
     },
     "bf58ec5d94f4449d9e9aea3c82654540": {
      "model_module": "jupyter-leaflet",
      "model_module_version": "^0.17",
      "model_name": "LeafletMapStyleModel",
      "state": {
       "_model_module_version": "^0.17"
      }
     },
     "c0e0a057b273444c867bb91d3d2b8166": {
      "model_module": "@jupyter-widgets/controls",
      "model_module_version": "2.0.0",
      "model_name": "ButtonStyleModel",
      "state": {
       "font_family": null,
       "font_size": null,
       "font_style": null,
       "font_variant": null,
       "font_weight": null,
       "text_color": null,
       "text_decoration": null
      }
     },
     "c2ab078daf744726a06e51b73d99e2ee": {
      "model_module": "jupyter-leaflet",
      "model_module_version": "^0.17",
      "model_name": "LeafletLayersControlModel",
      "state": {
       "_model_module_version": "^0.17",
       "_view_module_version": "^0.17",
       "options": [
        "position"
       ],
       "position": "topright"
      }
     },
     "c53792be7e3c4833b3dc6315bbfba4b4": {
      "model_module": "ipytree",
      "model_module_version": "^0.2",
      "model_name": "TreeModel",
      "state": {
       "_model_module_version": "^0.2",
       "_view_module_version": "^0.2",
       "layout": "IPY_MODEL_4f8b472c81eb412f9f90be778d5b046f",
       "nodes": [
        "IPY_MODEL_2319a7c35eb146fab3231d5b3c2d223f"
       ]
      }
     },
     "e60c35ff7a49458ca1dc33059ad86f72": {
      "model_module": "jupyter-leaflet",
      "model_module_version": "^0.17",
      "model_name": "LeafletTileLayerModel",
      "state": {
       "_model_module_version": "^0.17",
       "_view_module_version": "^0.17",
       "attribution": "Map tiles by <a href=\"http://stamen.com\">Stamen Design</a>, <a href=\"http://creativecommons.org/licenses/by/3.0\">CC BY 3.0</a> &mdash; Map data &copy; <a href=\"https://www.openstreetmap.org/copyright\">OpenStreetMap</a> contributors",
       "base": true,
       "max_zoom": 16,
       "min_zoom": 1,
       "name": "Stamen.Watercolor",
       "options": [
        "attribution",
        "bounds",
        "detect_retina",
        "max_native_zoom",
        "max_zoom",
        "min_native_zoom",
        "min_zoom",
        "no_wrap",
        "tile_size",
        "tms",
        "zoom_offset"
       ],
       "url": "https://stamen-tiles-a.a.ssl.fastly.net/watercolor/{z}/{x}/{y}.jpg"
      }
     },
     "e63129a6b6214b86b55161f9b3b01707": {
      "model_module": "@jupyter-widgets/controls",
      "model_module_version": "2.0.0",
      "model_name": "ButtonModel",
      "state": {
       "icon": "info-circle 2x fw inverse",
       "layout": "IPY_MODEL_505a42fde6424bdfb971ae73d8a26c74",
       "style": "IPY_MODEL_c0e0a057b273444c867bb91d3d2b8166",
       "tooltip": null
      }
     },
     "f110c4c3bbe345469b89eebd1016fef0": {
      "model_module": "jupyter-leaflet",
      "model_module_version": "^0.17",
      "model_name": "LeafletMapStyleModel",
      "state": {
       "_model_module_version": "^0.17"
      }
     }
    },
    "version_major": 2,
    "version_minor": 0
   }
  }
 },
 "nbformat": 4,
 "nbformat_minor": 4
}
