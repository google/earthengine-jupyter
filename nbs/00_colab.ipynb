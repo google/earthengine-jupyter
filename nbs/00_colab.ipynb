{
 "cells": [
  {
   "cell_type": "code",
   "execution_count": null,
   "id": "05d86507-c00c-4f70-96a5-e47b56eb54e7",
   "metadata": {},
   "outputs": [],
   "source": [
    "#|hide\n",
    "# Copyright 2022 Google LLC\n",
    "#\n",
    "# Licensed under the Apache License, Version 2.0 (the \"License\");\n",
    "# you may not use this file except in compliance with the License.\n",
    "# You may obtain a copy of the License at\n",
    "# \n",
    "#     https://www.apache.org/licenses/LICENSE-2.0\n",
    "# \n",
    "# Unless required by applicable law or agreed to in writing, software\n",
    "# distributed under the License is distributed on an \"AS IS\" BASIS,\n",
    "# WITHOUT WARRANTIES OR CONDITIONS OF ANY KIND, either express or implied.\n",
    "# See the License for the specific language governing permissions and\n",
    "# limitations under the License."
   ]
  },
  {
   "cell_type": "code",
   "execution_count": null,
   "id": "5427930d-da44-425f-adac-6a9a2ca769e5",
   "metadata": {},
   "outputs": [],
   "source": [
    "#| default_exp colab"
   ]
  },
  {
   "cell_type": "markdown",
   "id": "85662442-f26a-400f-9656-005d342855de",
   "metadata": {},
   "source": [
    "# Colab module\n",
    "\n",
    "> Tools specific to working within a Colab environment."
   ]
  },
  {
   "cell_type": "code",
   "execution_count": null,
   "id": "e682b176-cf69-4cf2-9d4c-d2acc18f93b3",
   "metadata": {},
   "outputs": [],
   "source": [
    "#|export\n",
    "def set_colab_output_cell_height(max_height):\n",
    "    \"\"\"Sets the maximum height for the current notebook cell's output.\"\"\"\n",
    "    import google\n",
    "    \n",
    "    from IPython.display import Javascript\n",
    "    from string import Template\n",
    "    s = Template('google.colab.output.setIframeHeight(0, true, {maxHeight: $height})')\n",
    "    display(Javascript(s.substitute(height=max_height)))"
   ]
  },
  {
   "cell_type": "code",
   "execution_count": null,
   "id": "e6cb06b8-a5ee-4f12-bab6-a292581be7de",
   "metadata": {},
   "outputs": [],
   "source": [
    "#|eval: false\n",
    "set_output_cell_height(max_height=200)"
   ]
  }
 ],
 "metadata": {
  "kernelspec": {
   "display_name": "Python 3 (ipykernel)",
   "language": "python",
   "name": "python3"
  },
  "widgets": {
   "application/vnd.jupyter.widget-state+json": {
    "state": {},
    "version_major": 2,
    "version_minor": 0
   }
  }
 },
 "nbformat": 4,
 "nbformat_minor": 5
}
