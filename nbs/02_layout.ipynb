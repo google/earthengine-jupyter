{
 "cells": [
  {
   "cell_type": "code",
   "execution_count": null,
   "id": "94288810-bd72-4341-8a86-96ae2ae5848d",
   "metadata": {},
   "outputs": [],
   "source": [
    "#|hide\n",
    "# Copyright 2022 Google LLC\n",
    "#\n",
    "# Licensed under the Apache License, Version 2.0 (the \"License\");\n",
    "# you may not use this file except in compliance with the License.\n",
    "# You may obtain a copy of the License at\n",
    "# \n",
    "#     https://www.apache.org/licenses/LICENSE-2.0\n",
    "# \n",
    "# Unless required by applicable law or agreed to in writing, software\n",
    "# distributed under the License is distributed on an \"AS IS\" BASIS,\n",
    "# WITHOUT WARRANTIES OR CONDITIONS OF ANY KIND, either express or implied.\n",
    "# See the License for the specific language governing permissions and\n",
    "# limitations under the License."
   ]
  },
  {
   "cell_type": "code",
   "execution_count": null,
   "id": "5bde49e7-42e2-4483-a14f-3f7ec7f32fc1",
   "metadata": {},
   "outputs": [],
   "source": [
    "#| default_exp layout"
   ]
  },
  {
   "cell_type": "markdown",
   "id": "7ace02d3-fb7d-4128-ba94-5c2a883b0fd2",
   "metadata": {},
   "source": [
    "# layout module\n",
    "\n",
    "> Provides panels of common layouts of map & inspector widgets."
   ]
  },
  {
   "cell_type": "code",
   "execution_count": null,
   "id": "b9f705ad-d869-413f-8eb6-3890a47d6440",
   "metadata": {},
   "outputs": [],
   "source": [
    "#|hide\n",
    "from nbdev.showdoc import *"
   ]
  },
  {
   "cell_type": "code",
   "execution_count": null,
   "id": "d5d1a7e1-46f9-4bc4-adbb-0db383d453b1",
   "metadata": {},
   "outputs": [],
   "source": [
    "#|export\n",
    "from ee_jupyter.ipyleaflet import Map\n",
    "from ee_jupyter.ipyleaflet import Inspector\n",
    "import ipywidgets\n",
    "from traitlets import Unicode"
   ]
  },
  {
   "cell_type": "markdown",
   "id": "bbd4e260-f0a7-49e9-b61f-faeb6647a4f9",
   "metadata": {},
   "source": [
    "## Inspector layouts"
   ]
  },
  {
   "cell_type": "code",
   "execution_count": null,
   "id": "609ba07d-4818-4f5c-9aae-e221fb734766",
   "metadata": {},
   "outputs": [],
   "source": [
    "#|export\n",
    "class MapInspectorHBox(ipywidgets.HBox):\n",
    "    \"\"\"A panel that includes a map and Inspector widget.\"\"\"\n",
    "    \n",
    "    def __init__(self,\n",
    "                 map_obj=None,\n",
    "                 **kwargs):\n",
    "        if map_obj is None:\n",
    "            kwargs['height'] = '300px'\n",
    "            map_obj = Map(**kwargs)\n",
    "        inspector_obj = Inspector(map_obj)\n",
    "        self.map = map_obj\n",
    "        self.inspector = inspector_obj\n",
    "\n",
    "        if 'children' not in kwargs:\n",
    "            kwargs['children'] = []\n",
    "        kwargs['children'].insert(0, self.map)\n",
    "        kwargs['children'].insert(1, self.inspector)\n",
    "        super().__init__(**kwargs)"
   ]
  },
  {
   "cell_type": "code",
   "execution_count": null,
   "id": "7f89e027-ab20-4704-a8f0-975a9ed00a78",
   "metadata": {},
   "outputs": [
    {
     "data": {
      "application/vnd.jupyter.widget-view+json": {
       "model_id": "fa456d5abd234acfbb1def299619d722",
       "version_major": 2,
       "version_minor": 0
      },
      "text/plain": [
       "MapInspectorHBox(children=(Map(center=[0.0, 0.0], controls=(ZoomControl(options=['position', 'zoom_in_text', '…"
      ]
     },
     "execution_count": null,
     "metadata": {},
     "output_type": "execute_result"
    }
   ],
   "source": [
    "# mbox = MapInspectorHBox(children=[ipywidgets.Label('Some more info')])\n",
    "#mbox = MapInspectorHBox()\n",
    "m = Map()\n",
    "#mbox = MapInspectorHBox(m, children=[ipywidgets.Label('Some more info')])\n",
    "mbox = MapInspectorHBox(m)\n",
    "mbox"
   ]
  },
  {
   "cell_type": "code",
   "execution_count": null,
   "id": "cc3c8424-7fd7-4e8c-bb84-4891287bb945",
   "metadata": {},
   "outputs": [],
   "source": []
  }
 ],
 "metadata": {
  "kernelspec": {
   "display_name": "Python 3 (ipykernel)",
   "language": "python",
   "name": "python3"
  },
  "widgets": {
   "application/vnd.jupyter.widget-state+json": {
    "state": {
     "2559867a57594bd7a4d6c32b3bf28706": {
      "model_module": "jupyter-leaflet",
      "model_module_version": "^0.17",
      "model_name": "LeafletMapStyleModel",
      "state": {
       "_model_module_version": "^0.17",
       "cursor": "move"
      }
     },
     "39cc2cdd33ea469b94eef15acdf711ec": {
      "model_module": "ipytree",
      "model_module_version": "^0.2",
      "model_name": "NodeModel",
      "state": {
       "_id": "29f943b0-2a8d-470f-bf43-7327d37a51e2",
       "_model_module_version": "^0.2",
       "_view_module_version": "^0.2",
       "disabled": true,
       "icon": "archive",
       "name": "Pixels"
      }
     },
     "570b6cf2020f47f98e0a67575a0e6566": {
      "model_module": "jupyter-leaflet",
      "model_module_version": "^0.17",
      "model_name": "LeafletTileLayerModel",
      "state": {
       "_model_module_version": "^0.17",
       "_view_module_version": "^0.17",
       "attribution": "Map tiles by <a href=\"http://stamen.com\">Stamen Design</a>, <a href=\"http://creativecommons.org/licenses/by/3.0\">CC BY 3.0</a> &mdash; Map data &copy; <a href=\"https://www.openstreetmap.org/copyright\">OpenStreetMap</a> contributors",
       "base": true,
       "max_zoom": 16,
       "min_zoom": 1,
       "name": "Stamen.Watercolor",
       "options": [
        "attribution",
        "bounds",
        "detect_retina",
        "max_native_zoom",
        "max_zoom",
        "min_native_zoom",
        "min_zoom",
        "no_wrap",
        "tile_size",
        "tms",
        "zoom_offset"
       ],
       "url": "https://stamen-tiles-a.a.ssl.fastly.net/watercolor/{z}/{x}/{y}.jpg"
      }
     },
     "71ea0a1c6746441cb1da06c7d5caf8b3": {
      "model_module": "@jupyter-widgets/base",
      "model_module_version": "2.0.0",
      "model_name": "LayoutModel",
      "state": {
       "border_bottom": "solid",
       "border_left": "solid",
       "border_right": "solid",
       "border_top": "solid",
       "max_height": "400px",
       "overflow": "scroll",
       "width": "40%"
      }
     },
     "73eae84365cf4c2286c490aad3aa31c9": {
      "model_module": "jupyter-leaflet",
      "model_module_version": "^0.17",
      "model_name": "LeafletMapModel",
      "state": {
       "_model_module_version": "^0.17",
       "_view_module_version": "^0.17",
       "bottom": 2248,
       "controls": [
        "IPY_MODEL_9bac2a296abd41b8ab5f81f8cb103b84",
        "IPY_MODEL_cd8c7d18145d4fc0a61212457945a96c",
        "IPY_MODEL_bad1c923554e4a6198299f2820a95740"
       ],
       "default_style": "IPY_MODEL_aa6035e2013b4d808d85fe72e10b7488",
       "dragging_style": "IPY_MODEL_2559867a57594bd7a4d6c32b3bf28706",
       "east": 22.763671875000004,
       "fullscreen": false,
       "interpolation": "bilinear",
       "layers": [
        "IPY_MODEL_570b6cf2020f47f98e0a67575a0e6566"
       ],
       "layout": "IPY_MODEL_d4b95e420c214fcd987730ca222fd88e",
       "left": 1788,
       "modisdate": "2022-10-01",
       "north": 17.308687886770034,
       "options": [
        "bounce_at_zoom_limits",
        "box_zoom",
        "center",
        "close_popup_on_click",
        "double_click_zoom",
        "dragging",
        "fullscreen",
        "inertia",
        "inertia_deceleration",
        "inertia_max_speed",
        "interpolation",
        "keyboard",
        "keyboard_pan_offset",
        "keyboard_zoom_offset",
        "max_zoom",
        "min_zoom",
        "prefer_canvas",
        "scroll_wheel_zoom",
        "tap",
        "tap_tolerance",
        "touch_zoom",
        "world_copy_jump",
        "zoom",
        "zoom_animation_threshold",
        "zoom_delta",
        "zoom_snap"
       ],
       "prefer_canvas": false,
       "right": 2307,
       "south": -17.308687886770024,
       "style": "IPY_MODEL_aa6035e2013b4d808d85fe72e10b7488",
       "top": 1848,
       "west": -22.851562500000004,
       "window_url": "http://localhost:8888/lab/tree/google/earthengine-jupyter/nbs/02_panel.ipynb",
       "zoom": 4
      }
     },
     "8df3c647e9ee42bb95c8b55d002336d7": {
      "model_module": "jupyter-leaflet",
      "model_module_version": "^0.17",
      "model_name": "LeafletMapStyleModel",
      "state": {
       "_model_module_version": "^0.17"
      }
     },
     "9a9e15420b4c4314aa1cb49e68c32529": {
      "model_module": "ipytree",
      "model_module_version": "^0.2",
      "model_name": "NodeModel",
      "state": {
       "_id": "792efb69-1ed2-434b-b6f0-57a952dad7b3",
       "_model_module_version": "^0.2",
       "_view_module_version": "^0.2",
       "disabled": true,
       "icon": "archive",
       "name": "Objects"
      }
     },
     "9bac2a296abd41b8ab5f81f8cb103b84": {
      "model_module": "jupyter-leaflet",
      "model_module_version": "^0.17",
      "model_name": "LeafletZoomControlModel",
      "state": {
       "_model_module_version": "^0.17",
       "_view_module_version": "^0.17",
       "options": [
        "position",
        "zoom_in_text",
        "zoom_in_title",
        "zoom_out_text",
        "zoom_out_title"
       ]
      }
     },
     "aa6035e2013b4d808d85fe72e10b7488": {
      "model_module": "jupyter-leaflet",
      "model_module_version": "^0.17",
      "model_name": "LeafletMapStyleModel",
      "state": {
       "_model_module_version": "^0.17",
       "cursor": "crosshair"
      }
     },
     "bad1c923554e4a6198299f2820a95740": {
      "model_module": "jupyter-leaflet",
      "model_module_version": "^0.17",
      "model_name": "LeafletLayersControlModel",
      "state": {
       "_model_module_version": "^0.17",
       "_view_module_version": "^0.17",
       "options": [
        "position"
       ],
       "position": "topright"
      }
     },
     "cd8c7d18145d4fc0a61212457945a96c": {
      "model_module": "jupyter-leaflet",
      "model_module_version": "^0.17",
      "model_name": "LeafletAttributionControlModel",
      "state": {
       "_model_module_version": "^0.17",
       "_view_module_version": "^0.17",
       "options": [
        "position",
        "prefix"
       ],
       "position": "bottomright",
       "prefix": "ipyleaflet"
      }
     },
     "d4b95e420c214fcd987730ca222fd88e": {
      "model_module": "@jupyter-widgets/base",
      "model_module_version": "2.0.0",
      "model_name": "LayoutModel",
      "state": {}
     },
     "ee756d01e495499cbeadd88bbd60ac2d": {
      "model_module": "ipytree",
      "model_module_version": "^0.2",
      "model_name": "NodeModel",
      "state": {
       "_id": "2d89cbc0-4fd0-421d-aaa5-c28ccfebe1e7",
       "_model_module_version": "^0.2",
       "_view_module_version": "^0.2",
       "icon": "map",
       "name": "Point"
      }
     },
     "f091889010c148ceafba3fad3502a518": {
      "model_module": "@jupyter-widgets/base",
      "model_module_version": "2.0.0",
      "model_name": "LayoutModel",
      "state": {}
     },
     "fa456d5abd234acfbb1def299619d722": {
      "model_module": "@jupyter-widgets/controls",
      "model_module_version": "2.0.0",
      "model_name": "HBoxModel",
      "state": {
       "children": [
        "IPY_MODEL_73eae84365cf4c2286c490aad3aa31c9",
        "IPY_MODEL_ffa50749b91c4ad2845c29758b23a239"
       ],
       "layout": "IPY_MODEL_f091889010c148ceafba3fad3502a518"
      }
     },
     "ffa50749b91c4ad2845c29758b23a239": {
      "model_module": "ipytree",
      "model_module_version": "^0.2",
      "model_name": "TreeModel",
      "state": {
       "_model_module_version": "^0.2",
       "_view_module_version": "^0.2",
       "layout": "IPY_MODEL_71ea0a1c6746441cb1da06c7d5caf8b3",
       "nodes": [
        "IPY_MODEL_ee756d01e495499cbeadd88bbd60ac2d",
        "IPY_MODEL_39cc2cdd33ea469b94eef15acdf711ec",
        "IPY_MODEL_9a9e15420b4c4314aa1cb49e68c32529"
       ]
      }
     }
    },
    "version_major": 2,
    "version_minor": 0
   }
  }
 },
 "nbformat": 4,
 "nbformat_minor": 5
}
