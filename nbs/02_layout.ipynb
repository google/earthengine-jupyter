{
 "cells": [
  {
   "cell_type": "code",
   "execution_count": null,
   "id": "94288810-bd72-4341-8a86-96ae2ae5848d",
   "metadata": {},
   "outputs": [],
   "source": [
    "#|hide\n",
    "# Copyright 2022 Google LLC\n",
    "#\n",
    "# Licensed under the Apache License, Version 2.0 (the \"License\");\n",
    "# you may not use this file except in compliance with the License.\n",
    "# You may obtain a copy of the License at\n",
    "# \n",
    "#     https://www.apache.org/licenses/LICENSE-2.0\n",
    "# \n",
    "# Unless required by applicable law or agreed to in writing, software\n",
    "# distributed under the License is distributed on an \"AS IS\" BASIS,\n",
    "# WITHOUT WARRANTIES OR CONDITIONS OF ANY KIND, either express or implied.\n",
    "# See the License for the specific language governing permissions and\n",
    "# limitations under the License."
   ]
  },
  {
   "cell_type": "code",
   "execution_count": null,
   "id": "5bde49e7-42e2-4483-a14f-3f7ec7f32fc1",
   "metadata": {},
   "outputs": [],
   "source": [
    "#| default_exp layout"
   ]
  },
  {
   "cell_type": "markdown",
   "id": "7ace02d3-fb7d-4128-ba94-5c2a883b0fd2",
   "metadata": {},
   "source": [
    "# layout module\n",
    "\n",
    "> Provides panels of common layouts of map & inspector widgets."
   ]
  },
  {
   "cell_type": "code",
   "execution_count": null,
   "id": "b9f705ad-d869-413f-8eb6-3890a47d6440",
   "metadata": {},
   "outputs": [],
   "source": [
    "#|hide\n",
    "from nbdev.showdoc import *"
   ]
  },
  {
   "cell_type": "code",
   "execution_count": null,
   "id": "d5d1a7e1-46f9-4bc4-adbb-0db383d453b1",
   "metadata": {},
   "outputs": [],
   "source": [
    "#|export\n",
    "from ee_jupyter.ipyleaflet import Map\n",
    "from ee_jupyter.ipyleaflet import Inspector\n",
    "import ipywidgets\n",
    "from traitlets import Unicode"
   ]
  },
  {
   "cell_type": "markdown",
   "id": "bbd4e260-f0a7-49e9-b61f-faeb6647a4f9",
   "metadata": {},
   "source": [
    "## Inspector layouts"
   ]
  },
  {
   "cell_type": "markdown",
   "id": "e69e6c11-318d-4375-b4cd-e91a787cae6f",
   "metadata": {},
   "source": [
    "### Map with Inspector"
   ]
  },
  {
   "cell_type": "code",
   "execution_count": null,
   "id": "3881eed1-a723-429e-a4f9-23ee090cc9ba",
   "metadata": {},
   "outputs": [],
   "source": [
    "#|export\n",
    "class MapWithInspector(ipywidgets.VBox):\n",
    "    \"\"\"A panel that includes a map and Inspector widget.\"\"\"\n",
    "    \n",
    "    def __init__(self,\n",
    "                 map_obj=None,\n",
    "                 **kwargs):\n",
    "        if map_obj is None:\n",
    "            kwargs['height'] = '300px'\n",
    "            map_obj = Map(**kwargs)\n",
    "        self.map = map_obj\n",
    "        \n",
    "        inspector_obj = Inspector(map_obj)\n",
    "        self.inspector = inspector_obj\n",
    "    \n",
    "        box = ipywidgets.HBox([\n",
    "            self.map,\n",
    "            self.inspector,\n",
    "        ])\n",
    "        \n",
    "        slider = ipywidgets.FloatSlider(min=0, max=100, readout=False, layout={'width':'100%'})\n",
    "        \n",
    "        def handle_slider_change(change):\n",
    "            self.map.layout.width = f'{change.new}%'\n",
    "            self.inspector.layout.width = f'{100 - change.new}%'\n",
    "        slider.observe(handle_slider_change, names='value')          \n",
    "        \n",
    "        if 'children' not in kwargs:\n",
    "            kwargs['children'] = []\n",
    "        kwargs['children'].insert(0, box)\n",
    "        kwargs['children'].insert(1, slider)\n",
    "        \n",
    "        # Intialize the component widths\n",
    "        slider.value = '50'\n",
    "        \n",
    "        super().__init__(**kwargs)"
   ]
  },
  {
   "cell_type": "code",
   "execution_count": null,
   "id": "21cc8e6a-8e40-4e1d-8b91-a07b781264e5",
   "metadata": {},
   "outputs": [
    {
     "data": {
      "application/vnd.jupyter.widget-view+json": {
       "model_id": "7a2616d114294726b652c0dbc666939d",
       "version_major": 2,
       "version_minor": 0
      },
      "text/plain": [
       "MapWithInspector(children=(HBox(children=(Map(center=[0.0, 0.0], controls=(ZoomControl(options=['position', 'z…"
      ]
     },
     "execution_count": null,
     "metadata": {},
     "output_type": "execute_result"
    }
   ],
   "source": [
    "m2 = Map()\n",
    "mbox2 = MapWithInspector(m2)\n",
    "mbox2"
   ]
  },
  {
   "cell_type": "code",
   "execution_count": null,
   "id": "8408c133-dced-405b-8f7f-f64fbfd9642b",
   "metadata": {},
   "outputs": [],
   "source": [
    "#| hide\n",
    "import nbdev; nbdev.nbdev_export()"
   ]
  }
 ],
 "metadata": {
  "kernelspec": {
   "display_name": "Python 3 (ipykernel)",
   "language": "python",
   "name": "python3"
  },
  "widgets": {
   "application/vnd.jupyter.widget-state+json": {
    "state": {
     "027e2159c6a344bf927b65ad5a812447": {
      "model_module": "jupyter-leaflet",
      "model_module_version": "^0.17",
      "model_name": "LeafletMapStyleModel",
      "state": {
       "_model_module_version": "^0.17"
      }
     },
     "0e7eacf7945e4464b4e7ef878b9feb6e": {
      "model_module": "@jupyter-widgets/base",
      "model_module_version": "2.0.0",
      "model_name": "LayoutModel",
      "state": {}
     },
     "507a669b39414ba586fa2fc312d11afc": {
      "model_module": "jupyter-leaflet",
      "model_module_version": "^0.17",
      "model_name": "LeafletZoomControlModel",
      "state": {
       "_model_module_version": "^0.17",
       "_view_module_version": "^0.17",
       "options": [
        "position",
        "zoom_in_text",
        "zoom_in_title",
        "zoom_out_text",
        "zoom_out_title"
       ]
      }
     },
     "56f079cca68e4bd0a8f7ea68db345cea": {
      "model_module": "ipytree",
      "model_module_version": "^0.2",
      "model_name": "NodeModel",
      "state": {
       "_id": "ef8257c4-c635-441c-8a70-d8b596d1ca70",
       "_model_module_version": "^0.2",
       "_view_module_version": "^0.2",
       "icon": "map",
       "name": "Point"
      }
     },
     "5a5c82a9a4f842c39d291d30e2785852": {
      "model_module": "jupyter-leaflet",
      "model_module_version": "^0.17",
      "model_name": "LeafletLayersControlModel",
      "state": {
       "_model_module_version": "^0.17",
       "_view_module_version": "^0.17",
       "options": [
        "position"
       ],
       "position": "topright"
      }
     },
     "66f3ad9a32da4ed9988bcc09896e2f36": {
      "model_module": "jupyter-leaflet",
      "model_module_version": "^0.17",
      "model_name": "LeafletTileLayerModel",
      "state": {
       "_model_module_version": "^0.17",
       "_view_module_version": "^0.17",
       "attribution": "Map tiles by <a href=\"http://stamen.com\">Stamen Design</a>, <a href=\"http://creativecommons.org/licenses/by/3.0\">CC BY 3.0</a> &mdash; Map data &copy; <a href=\"https://www.openstreetmap.org/copyright\">OpenStreetMap</a> contributors",
       "base": true,
       "max_zoom": 16,
       "min_zoom": 1,
       "name": "Stamen.Watercolor",
       "options": [
        "attribution",
        "bounds",
        "detect_retina",
        "max_native_zoom",
        "max_zoom",
        "min_native_zoom",
        "min_zoom",
        "no_wrap",
        "tile_size",
        "tms",
        "zoom_offset"
       ],
       "url": "https://stamen-tiles-a.a.ssl.fastly.net/watercolor/{z}/{x}/{y}.jpg"
      }
     },
     "7a2616d114294726b652c0dbc666939d": {
      "model_module": "@jupyter-widgets/controls",
      "model_module_version": "2.0.0",
      "model_name": "VBoxModel",
      "state": {
       "children": [
        "IPY_MODEL_b803b33ce326430a9c1515228cdd7a3b",
        "IPY_MODEL_a11e6053004e4d15b981a2bb208c6f6b"
       ],
       "layout": "IPY_MODEL_0e7eacf7945e4464b4e7ef878b9feb6e"
      }
     },
     "80c2d60b33aa4d5d843678ab9d6b99cf": {
      "model_module": "jupyter-leaflet",
      "model_module_version": "^0.17",
      "model_name": "LeafletMapModel",
      "state": {
       "_model_module_version": "^0.17",
       "_view_module_version": "^0.17",
       "bottom": 2248,
       "controls": [
        "IPY_MODEL_507a669b39414ba586fa2fc312d11afc",
        "IPY_MODEL_c2577a594cbf4c7ca37c20384f1390e9",
        "IPY_MODEL_5a5c82a9a4f842c39d291d30e2785852"
       ],
       "default_style": "IPY_MODEL_cb1cdaa527ec4474a0bee32680e48280",
       "dragging_style": "IPY_MODEL_bd8229fef3f64acab8c6b3b7752f45a1",
       "east": 25.312500000000004,
       "fullscreen": false,
       "interpolation": "bilinear",
       "layers": [
        "IPY_MODEL_66f3ad9a32da4ed9988bcc09896e2f36"
       ],
       "layout": "IPY_MODEL_e81a78b31daf46dc8d02e884b6e8535f",
       "left": 1761,
       "modisdate": "2022-11-27",
       "north": 17.308687886770034,
       "options": [
        "bounce_at_zoom_limits",
        "box_zoom",
        "center",
        "close_popup_on_click",
        "double_click_zoom",
        "dragging",
        "fullscreen",
        "inertia",
        "inertia_deceleration",
        "inertia_max_speed",
        "interpolation",
        "keyboard",
        "keyboard_pan_offset",
        "keyboard_zoom_offset",
        "max_zoom",
        "min_zoom",
        "prefer_canvas",
        "scroll_wheel_zoom",
        "tap",
        "tap_tolerance",
        "touch_zoom",
        "world_copy_jump",
        "zoom",
        "zoom_animation_threshold",
        "zoom_delta",
        "zoom_snap"
       ],
       "prefer_canvas": false,
       "right": 2336,
       "south": -17.308687886770024,
       "style": "IPY_MODEL_027e2159c6a344bf927b65ad5a812447",
       "top": 1848,
       "west": -25.224609375000004,
       "window_url": "http://localhost:8889/lab/tree/nbs/02_layout.ipynb",
       "zoom": 4
      }
     },
     "9bdf043c109f429493d266a8ac90ba0e": {
      "model_module": "@jupyter-widgets/base",
      "model_module_version": "2.0.0",
      "model_name": "LayoutModel",
      "state": {
       "max_height": "400px",
       "overflow": "scroll",
       "width": "50.0%"
      }
     },
     "a11e6053004e4d15b981a2bb208c6f6b": {
      "model_module": "@jupyter-widgets/controls",
      "model_module_version": "2.0.0",
      "model_name": "FloatSliderModel",
      "state": {
       "behavior": "drag-tap",
       "layout": "IPY_MODEL_c2e003ac15c14d22a9da18dc53633241",
       "readout": false,
       "step": 0.1,
       "style": "IPY_MODEL_d7eab05f1318498f904da3faed42b8af",
       "value": 50
      }
     },
     "b15081d640f74d44aac0345697d2887c": {
      "model_module": "@jupyter-widgets/base",
      "model_module_version": "2.0.0",
      "model_name": "LayoutModel",
      "state": {}
     },
     "b438dda7135f460ab5f3ee50551a5637": {
      "model_module": "ipytree",
      "model_module_version": "^0.2",
      "model_name": "NodeModel",
      "state": {
       "_id": "107956e4-3db1-4395-b910-a99f7090c408",
       "_model_module_version": "^0.2",
       "_view_module_version": "^0.2",
       "disabled": true,
       "icon": "archive",
       "name": "Objects"
      }
     },
     "b803b33ce326430a9c1515228cdd7a3b": {
      "model_module": "@jupyter-widgets/controls",
      "model_module_version": "2.0.0",
      "model_name": "HBoxModel",
      "state": {
       "children": [
        "IPY_MODEL_80c2d60b33aa4d5d843678ab9d6b99cf",
        "IPY_MODEL_d332b6326dc943deb287d4af46fe05f8"
       ],
       "layout": "IPY_MODEL_b15081d640f74d44aac0345697d2887c"
      }
     },
     "bd8229fef3f64acab8c6b3b7752f45a1": {
      "model_module": "jupyter-leaflet",
      "model_module_version": "^0.17",
      "model_name": "LeafletMapStyleModel",
      "state": {
       "_model_module_version": "^0.17",
       "cursor": "move"
      }
     },
     "c2577a594cbf4c7ca37c20384f1390e9": {
      "model_module": "jupyter-leaflet",
      "model_module_version": "^0.17",
      "model_name": "LeafletAttributionControlModel",
      "state": {
       "_model_module_version": "^0.17",
       "_view_module_version": "^0.17",
       "options": [
        "position",
        "prefix"
       ],
       "position": "bottomright",
       "prefix": "ipyleaflet"
      }
     },
     "c2e003ac15c14d22a9da18dc53633241": {
      "model_module": "@jupyter-widgets/base",
      "model_module_version": "2.0.0",
      "model_name": "LayoutModel",
      "state": {
       "width": "100%"
      }
     },
     "cb1cdaa527ec4474a0bee32680e48280": {
      "model_module": "jupyter-leaflet",
      "model_module_version": "^0.17",
      "model_name": "LeafletMapStyleModel",
      "state": {
       "_model_module_version": "^0.17",
       "cursor": "crosshair"
      }
     },
     "d332b6326dc943deb287d4af46fe05f8": {
      "model_module": "ipytree",
      "model_module_version": "^0.2",
      "model_name": "TreeModel",
      "state": {
       "_model_module_version": "^0.2",
       "_view_module_version": "^0.2",
       "layout": "IPY_MODEL_9bdf043c109f429493d266a8ac90ba0e",
       "nodes": [
        "IPY_MODEL_56f079cca68e4bd0a8f7ea68db345cea",
        "IPY_MODEL_f101142e69dd4992bb78f7b432abffc8",
        "IPY_MODEL_b438dda7135f460ab5f3ee50551a5637"
       ]
      }
     },
     "d7eab05f1318498f904da3faed42b8af": {
      "model_module": "@jupyter-widgets/controls",
      "model_module_version": "2.0.0",
      "model_name": "SliderStyleModel",
      "state": {
       "description_width": ""
      }
     },
     "e81a78b31daf46dc8d02e884b6e8535f": {
      "model_module": "@jupyter-widgets/base",
      "model_module_version": "2.0.0",
      "model_name": "LayoutModel",
      "state": {
       "width": "50.0%"
      }
     },
     "f101142e69dd4992bb78f7b432abffc8": {
      "model_module": "ipytree",
      "model_module_version": "^0.2",
      "model_name": "NodeModel",
      "state": {
       "_id": "ca03bd18-70c4-4759-90ad-165e4c1f1240",
       "_model_module_version": "^0.2",
       "_view_module_version": "^0.2",
       "disabled": true,
       "icon": "archive",
       "name": "Pixels"
      }
     }
    },
    "version_major": 2,
    "version_minor": 0
   }
  }
 },
 "nbformat": 4,
 "nbformat_minor": 5
}
