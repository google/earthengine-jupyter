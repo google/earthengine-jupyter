{
 "cells": [
  {
   "cell_type": "code",
   "execution_count": null,
   "id": "94288810-bd72-4341-8a86-96ae2ae5848d",
   "metadata": {},
   "outputs": [],
   "source": [
    "#|hide\n",
    "# Copyright 2022 Google LLC\n",
    "#\n",
    "# Licensed under the Apache License, Version 2.0 (the \"License\");\n",
    "# you may not use this file except in compliance with the License.\n",
    "# You may obtain a copy of the License at\n",
    "# \n",
    "#     https://www.apache.org/licenses/LICENSE-2.0\n",
    "# \n",
    "# Unless required by applicable law or agreed to in writing, software\n",
    "# distributed under the License is distributed on an \"AS IS\" BASIS,\n",
    "# WITHOUT WARRANTIES OR CONDITIONS OF ANY KIND, either express or implied.\n",
    "# See the License for the specific language governing permissions and\n",
    "# limitations under the License."
   ]
  },
  {
   "cell_type": "code",
   "execution_count": null,
   "id": "5bde49e7-42e2-4483-a14f-3f7ec7f32fc1",
   "metadata": {},
   "outputs": [],
   "source": [
    "#| default_exp layout"
   ]
  },
  {
   "cell_type": "markdown",
   "id": "7ace02d3-fb7d-4128-ba94-5c2a883b0fd2",
   "metadata": {},
   "source": [
    "# layout module\n",
    "\n",
    "> Provides panels of common layouts of map & inspector widgets."
   ]
  },
  {
   "cell_type": "code",
   "execution_count": null,
   "id": "b9f705ad-d869-413f-8eb6-3890a47d6440",
   "metadata": {},
   "outputs": [],
   "source": [
    "#|hide\n",
    "from nbdev.showdoc import *"
   ]
  },
  {
   "cell_type": "code",
   "execution_count": null,
   "id": "d5d1a7e1-46f9-4bc4-adbb-0db383d453b1",
   "metadata": {},
   "outputs": [],
   "source": [
    "#|export\n",
    "from ee_jupyter.ipyleaflet import Map\n",
    "from ee_jupyter.ipyleaflet import Inspector\n",
    "import ipywidgets\n",
    "from traitlets import Unicode"
   ]
  },
  {
   "cell_type": "markdown",
   "id": "bbd4e260-f0a7-49e9-b61f-faeb6647a4f9",
   "metadata": {},
   "source": [
    "## Inspector layouts"
   ]
  },
  {
   "cell_type": "markdown",
   "id": "e69e6c11-318d-4375-b4cd-e91a787cae6f",
   "metadata": {},
   "source": [
    "### Map with Inspector"
   ]
  },
  {
   "cell_type": "code",
   "execution_count": null,
   "id": "3881eed1-a723-429e-a4f9-23ee090cc9ba",
   "metadata": {},
   "outputs": [],
   "source": [
    "#|export\n",
    "class MapWithInspector(ipywidgets.VBox):\n",
    "    \"\"\"A panel that includes a map and Inspector widget.\"\"\"\n",
    "    \n",
    "    def __init__(self,\n",
    "                 map_obj=None,\n",
    "                 **kwargs):\n",
    "        if map_obj is None:\n",
    "            kwargs['height'] = '300px'\n",
    "            map_obj = Map(**kwargs)\n",
    "        self.map = map_obj\n",
    "        \n",
    "        inspector_obj = Inspector(map_obj)\n",
    "        self.inspector = inspector_obj\n",
    "        \n",
    "        output_obj = ipywidgets.Output()\n",
    "        self.output = output_obj\n",
    "        \n",
    "        tab = ipywidgets.Tab(\n",
    "            children = [self.inspector, self.output],\n",
    "            titles = ['Inspector', 'Console'],\n",
    "            selected_index = 1,\n",
    "            layout = {'width': '50%'}\n",
    "        )\n",
    "        self.tab = tab\n",
    "    \n",
    "        box = ipywidgets.HBox([\n",
    "            self.map,\n",
    "            self.tab,\n",
    "        ])\n",
    "        \n",
    "        slider = ipywidgets.FloatSlider(min=0, max=100, value=50, readout=False, layout={'width':'100%'})\n",
    "        \n",
    "        def handle_slider_change(change):\n",
    "            self.map.layout.width = f'{change.new}%'\n",
    "            self.tab.layout.width = f'{100 - change.new}%'\n",
    "        slider.observe(handle_slider_change, names='value')        \n",
    "        \n",
    "        if 'children' not in kwargs:\n",
    "            kwargs['children'] = []\n",
    "        kwargs['children'].insert(0, slider)\n",
    "        kwargs['children'].insert(1, box)\n",
    "        \n",
    "        super().__init__(**kwargs)\n",
    "        \n",
    "    def print(self, obj):\n",
    "        with self.output:\n",
    "            if isinstance(obj, str):\n",
    "                print(obj)\n",
    "            else:\n",
    "                display(obj)"
   ]
  },
  {
   "cell_type": "code",
   "execution_count": null,
   "id": "21cc8e6a-8e40-4e1d-8b91-a07b781264e5",
   "metadata": {},
   "outputs": [
    {
     "data": {
      "application/vnd.jupyter.widget-view+json": {
       "model_id": "4e35519f9e0a441b81f9184ff844ca07",
       "version_major": 2,
       "version_minor": 0
      },
      "text/plain": [
       "MapWithInspector(children=(FloatSlider(value=50.0, layout=Layout(width='100%'), readout=False), HBox(children=…"
      ]
     },
     "execution_count": null,
     "metadata": {},
     "output_type": "execute_result"
    }
   ],
   "source": [
    "m2 = Map()\n",
    "mbox2 = MapWithInspector(m2)\n",
    "mbox2"
   ]
  },
  {
   "cell_type": "markdown",
   "id": "5dbeb849-01e0-4a43-9b56-33b63356aaa5",
   "metadata": {},
   "source": [
    "You can print objects to the map's console tab."
   ]
  },
  {
   "cell_type": "code",
   "execution_count": null,
   "id": "59a12cf4-d074-4622-ab6e-56d6cd530656",
   "metadata": {},
   "outputs": [],
   "source": [
    "from IPython.display import YouTubeVideo"
   ]
  },
  {
   "cell_type": "code",
   "execution_count": null,
   "id": "6f77dafa-0156-4220-928e-10fd854b9c57",
   "metadata": {},
   "outputs": [],
   "source": [
    "mbox2.print(\"Probably not the best place to watch a video...\")\n",
    "mbox2.print(YouTubeVideo('CDyTP5Ao4Bs'))"
   ]
  },
  {
   "cell_type": "code",
   "execution_count": null,
   "id": "8408c133-dced-405b-8f7f-f64fbfd9642b",
   "metadata": {},
   "outputs": [],
   "source": [
    "#| hide\n",
    "import nbdev; nbdev.nbdev_export()"
   ]
  }
 ],
 "metadata": {
  "kernelspec": {
   "display_name": "Python 3 (ipykernel)",
   "language": "python",
   "name": "python3"
  },
  "widgets": {
   "application/vnd.jupyter.widget-state+json": {
    "state": {
     "0337c842d35d498596e44f15179fe0b9": {
      "model_module": "@jupyter-widgets/base",
      "model_module_version": "2.0.0",
      "model_name": "LayoutModel",
      "state": {}
     },
     "038f5a3a7c9f4f03840b3cd5eea3ca53": {
      "model_module": "@jupyter-widgets/base",
      "model_module_version": "2.0.0",
      "model_name": "LayoutModel",
      "state": {}
     },
     "12ba605452ca4b7199cce9b9fbbee8e3": {
      "model_module": "jupyter-leaflet",
      "model_module_version": "^0.17",
      "model_name": "LeafletLayersControlModel",
      "state": {
       "_model_module_version": "^0.17",
       "_view_module_version": "^0.17",
       "options": [
        "position"
       ],
       "position": "topright"
      }
     },
     "3244c7d7f0984ecfabf158fd47e343fe": {
      "model_module": "jupyter-leaflet",
      "model_module_version": "^0.17",
      "model_name": "LeafletMapStyleModel",
      "state": {
       "_model_module_version": "^0.17"
      }
     },
     "32deae462c3c45c49159ca6c07a56f1d": {
      "model_module": "jupyter-leaflet",
      "model_module_version": "^0.17",
      "model_name": "LeafletMapModel",
      "state": {
       "_model_module_version": "^0.17",
       "_view_module_version": "^0.17",
       "bottom": 2248,
       "controls": [
        "IPY_MODEL_7ac2bbab393e4f7ba5403a7e58b6a586",
        "IPY_MODEL_598eb74b1d164f07a441d5edd944d58a",
        "IPY_MODEL_12ba605452ca4b7199cce9b9fbbee8e3"
       ],
       "default_style": "IPY_MODEL_696ffd72aea14474aff5908af6ce784c",
       "dragging_style": "IPY_MODEL_7fc71bf7e7ec4ebf96e38d9bf3a893fb",
       "east": 29.091796875,
       "fullscreen": false,
       "interpolation": "bilinear",
       "layers": [
        "IPY_MODEL_5feae7e58d6d45579a4adde89e1ea2bf"
       ],
       "layout": "IPY_MODEL_a95c9c91bfeb4084aed8b7e902550ad1",
       "left": 1717,
       "modisdate": "2022-10-24",
       "north": 17.308687886770034,
       "options": [
        "bounce_at_zoom_limits",
        "box_zoom",
        "center",
        "close_popup_on_click",
        "double_click_zoom",
        "dragging",
        "fullscreen",
        "inertia",
        "inertia_deceleration",
        "inertia_max_speed",
        "interpolation",
        "keyboard",
        "keyboard_pan_offset",
        "keyboard_zoom_offset",
        "max_zoom",
        "min_zoom",
        "prefer_canvas",
        "scroll_wheel_zoom",
        "tap",
        "tap_tolerance",
        "touch_zoom",
        "world_copy_jump",
        "zoom",
        "zoom_animation_threshold",
        "zoom_delta",
        "zoom_snap"
       ],
       "prefer_canvas": false,
       "right": 2379,
       "south": -17.308687886770024,
       "style": "IPY_MODEL_3244c7d7f0984ecfabf158fd47e343fe",
       "top": 1848,
       "west": -29.091796875,
       "window_url": "http://localhost:8888/lab/tree/nbs/02_layout.ipynb",
       "zoom": 4
      }
     },
     "36ea5dae45cd44c6befc78adddf727a7": {
      "model_module": "@jupyter-widgets/output",
      "model_module_version": "1.0.0",
      "model_name": "OutputModel",
      "state": {
       "layout": "IPY_MODEL_038f5a3a7c9f4f03840b3cd5eea3ca53",
       "outputs": [
        {
         "name": "stdout",
         "output_type": "stream",
         "text": "Probably not the best place to watch a video...\n"
        },
        {
         "data": {
          "image/jpeg": "/9j/4AAQSkZJRgABAQAAAQABAAD/2wCEAAUDBAgKCAgICAgICAgICAgICAgICAgICAgICAgICAgICAgIChANCAgOCggIDRUNDhERExMTCA0WGBYSGBASExIBBQUFCAcIDwkJDxUQEA8SEhUVFRUSFRIVEhISFRUVFRUSFRUVEhIXFRUVEhUVEhUVFRUSFRUVEhUSFRUVEhUVFf/AABEIAWgB4AMBIgACEQEDEQH/xAAdAAEAAQUBAQEAAAAAAAAAAAAABwEEBQYIAwIJ/8QAWhAAAQMCBAIECQUKCgYIBwAAAQACAwQRBQYSIRMxByJBURQYMlRhcYGU1SNCVZHUCBUWM1Jik6GxwSQ1Q3JzgpK00eElU7Kz0/A0NmN0g4TC0hdEZKKjtfH/xAAbAQEAAwEBAQEAAAAAAAAAAAAAAQQFAwIGB//EADYRAAICAQMDAgQEBQQCAwAAAAABAhEDBBIhEzFRQWEFInGBMpGhsRRCwdHwIzNScmLhBhUk/9oADAMBAAIRAxEAPwDjJERAEREAREQBERAEREAREQBERAEREAREQBERAEREAREQBERAEREAREQBERAEREAREQBERAEREAREQBERAEREAREQBERAEREAREQBERAEREAREQBERAEREAREQBERAEREAREQBERAEREAREQBERAEREAREQBERAEREAREQBERAEREAREQBERAEREAREQBERAEREAREQBERAEREAREQBERAEREAREQBF0z4lWavP8AL/vWI/Dk8SrNXn+X/esR+HIDmZF0z4lWavP8v+9Yj8OTxKs1ef5f96xH4cgOZkXTPiVZq8/y/wC9Yj8OTxKs1ef5f96xH4cgOZkXTPiVZq8/y/71iPw5PEqzV5/l/wB6xH4cgOZkXTPiVZq8/wAv+9Yj8OTxKs1ef5f96xH4cgOZkXTPiVZq8/y/71iPw5PEqzV5/l/3rEfhyA5mRdM+JVmrz/L/AL1iPw5PEqzV5/l/3rEfhyA5mRdM+JVmrz/L/vWI/Dk8SrNXn+X/AHrEfhyA5mRdM+JVmrz/AC/71iPw5PEqzV5/l/3rEfhyA5mRdM+JVmrz/L/vWI/Dk8SrNXn+X/esR+HIDmZF0z4lWavP8v8AvWI/Dk8SrNXn+X/esR+HIDmZF0z4lWavP8v+9Yj8OTxKs1ef5f8AesR+HIDmZF0z4lWavP8AL/vWI/Dk8SrNXn+X/esR+HIDmZF0z4lWavP8v+9Yj8OTxKs1ef5f96xH4cgOZkXTPiVZq8/y/wC9Yj8OTxKs1ef5f96xH4cgOZkU9D7lXMPnmDe8V32FV8VTMPnmDe8V32FeOpHydejPwQIinvxVMw+eYN7xXfYU8VTMPnmDe8V32FOpHyOjPwQIinrxVcw+eYN7xXfYVXxVMw+eYN7xXfYU6kfI6M/BAiKe/FUzD55g3vFd9hVPFVzD55g3vFd9hTqR8joz8ECop6H3KuYfPMG94rvsKr4qmYfPMG94rvsKdSPkdGfggRFPfiqZh88wX3iu+wp4qeYfPMF94rvsKdSPkdGfggRFPfiqZh88wX3iu+wp4qmYfPMF94rvsKdSPkdGfggRFPfip5h88wX3iu+wp4qmYfPMF94rvsKdSPkdGfggRFPfip5h88wX3iu+wp4qeYfPMF94rvsKdSPkdGfggRFPfiqZh88wX3iu+wp4qeYfPMF94rvsKdSPkdGfggRFPfiqZh88wX3iu+wp4qeYfPMF94rvsKdSPkdGfggRFPXiq5h88wb3iu+wp4quYfPMG94rvsKdSPkdGfggVFPfiqZh88wb3iu+wp4qmYfPMG94rvsKdSPkdGfggRFPfiqZh88wb3iu+wqniq5h88wb3iu+wp1I+R0Z+CBUU9+KpmHzzBfeK77CniqZh88wX3iu+wp1I+R0Z+D9HURF7OQREQBERAEREAREQBERAEREAREQBERAEREAREQBERAEREAREQBERARYOQ9SqEbyCLPNkISio4ICoKqviyq1AVVV82VUJKoqAKqgFUVAsfmDGIKSB1RUP0Rs5nmT6AO0+gKSDIoorf00UeuzKeWSMnywWtPP8k+j0q+Z0v4ZYEtqQSdJtGCB6dWoBTRG5EjEotay7nbDqxxZBUN1j5jwWOPqB59n1rY1BKZUoiISAl0CFAEVV51E7I2Pkkc2OONrnvke4NYxjRqc5zjs1oAJJPcoog+rKxrsWpon8J8oM1tXAja+aoLfyhTwtdIW+nTZW0cc9UOJI6WiorEtYC6CsqGW2kmkFn0MRG4Y3TL5Jc6M6o14U+PUVPVx4ZR0x1GT5YQQ6GRFzdRleA28pJc0ufys4kuJFlahpr5lwUsmsSdQVl63FSd2Uta5vYTTPiP9ioLHj2tXw/Hqdl+Nx6YAXc+ppqiGFv8AOqXx8Ef21nlbCGTi69fV7rnuta3Jc9VB4tuyEp7pJOmvlT/mfsjzh1Tnu3NRpNq75fhHxFK1zWvY5r2uF2uaQ5rgeRa4bEL6VhXYHGC6WkeKKdxLi6Nmqnmee2qpAWtnJsLvaWS2FhI0XXzhWJGRzoZo+BVRtDnxatbXMJsJqeQtHGgJ2vYOadnBptdkwuB2w6hZPZmRuqr5RciwSmiItAxwiIgCIiAIiIAiIgCIiAIiIAiIgCIiAIiIAiIgCIiAIiIAiIgCIiAixnIL6XyzkF9LPNkpZVVFVSAioiA+gEsgRQSUKoVUqhUkGJzXj0NDTOqJbm2zGDypH9jR3evsXNvSFnOqrpSZn6Yw/wCTp2EiNgtt/Pd+ce/sW79MGJS1WI/e+NxDYgGbcmXAdI8+ncD+qFq+LZMDm6IrXa2wJtc7c/Xe6lyUeDyscp8oj6Svdr9Q2sORvtuD6991evrjKPlLX2sbWNvSRueQ5rJy9HtebadJG/IjsPrVrLlysi2kjcB5JOm7dXYb8l6U4nN4Z+C0pJXNkBjkAsTe53IG4s4crFTh0Q52ldK2hqpeLr2ifI4l+u1wwHusORUHyYc+KTS5rw4gEXB0u7Lg8gOxZLLlS6GVhF2TQva9ptuC2zgRf2fUjp9gt0e516FVY/L1eKilgqAQRLE1+wsLkdbY8t7rILxR2CqqBVUEgLEmLwqqLHb0tE9he0jaorQGyxsdfZ0UDXRSdoMkjORhIOQralkUck0htHFG+WQ9zI2l7z9TSoby3jlXT/LCTTNM509TGTrifPO4yzAtPMa3uAIsQAALJ1o4mnJWYXxz4rHRQipJ/O328Lv+6JMzHgldVVUYFZwKBoY50cQIlfICdTXdj2kAbuNhfyTzWdoKQR6jZpc6wMmkB7mNvoEjgLvIGywGXc6U0+mOUinmNhZzvk3n8yQ8ie51j606S8yyUFEZ4GNfM+VkLC4FzIy9r3F7wCL2EZAF+bm+paUMsJrdF2UsOrx5oboO17en1NoWOxrGIKaCWonkbFDC3VJK++louANhu5xJAAG5JAF7qJ8F6YXNdFDiMTpXzzxxRy0zWNs15DSZIi7rEOc3yOYPK4GqnTHiTqqR2GWaKaGSKSV7XEvlla3VouDbht12ItfU3mLLxk1CirfCIz6zDp8XVyOl/Us859JrqwNZhkk8UG4fLp4U0rwSA2OxLo4gLH5riT2W3xOE41iURZJ4Q+R8TuJC2oe+XS7k5he67mRSNuxzRcWdewc1jm2VHSRxi0bGtt3AD9iyuHYZLLuBpZ2vdsP6o+d+xZOXVym6gfIar/5Dny5P/wAycf3/AC7ImvAMUjq6WCqiuGTsDtLra43glskMljYSMe17HAdrCr8BRn0GYoHtrqTe0b4atgNgGiqEkcrG+gSUxefTUHvUmLqnas/S/h2r/itPDN23Ln2fqvzJSREWkVAiIgCIiAIiIAiIgCIiAIiIAiIgCIiAIiIAiIgCIiAIiIAiIgCIiAiwch6l9BfLeQX0s82QhVEUgIEVQgKoERQSUKoV9KhUx7kNEEV7muxjEJAQS2WRpPqeWWv6mq+hBJHb6liaksixLF9bg0Nq5CA4jUbve47f1m/WF8uzDGwghrnC9iWEG3rsuWRNssYZpRVm54c1tj3heeItaWkEAg3BB7ljKDHoywuaNTXdo7LK2lzPSl4iudZ7gDv3EqH2O3Hc8cTgZY3Y022F2gqOcyAMqgW+Tbrgd++lSTiUzHDqnrDs/wCeairPEjo5wSDZ4v8At/yXrCuSpqqrg6X6H3XwmDe4DpA0/m6rj9pW3LSeg5+rBKZ2+7pefP8AGEfsAW7roeEAqohUEmLzbfwCts1riaWcaXuLGOvG4aXvDXFjDyJsbAnY8ltv3uxhzg+amo5SyQyRgY7WUzWjbqPZR4RG2oZsNpQ/9ZvrmK0bZ4J6dxIbPDLA4jmGysdGSLdoDlI2UsUNVQ0tS4Br5YWGVgIPDnA01ERI+cyVsjD6WFWtPKkzP1kbabNbmosec5zgyjYHP1BjcTiLWN3+TaX5dLi03+cSdhvzvo2I43RVc8uETVuWaqvlkMRppMxQGfig24Hg8GDR8SVrhfTbiAt57KROmWGufl7GmYZxPD34ZWtpeCXCcymB4AgLd2zkXDSLEOLbbrn/ABbOOA0WWsGmy7T5QrIqSGCR+G4m57sbOLR8A08dLR0sL5ZMTM/E1Ok07lrtWkly736f0Ke1Gw4l0VYlTUdOJZ8AooaRzZH1clXUQOfUvY6n4slRJSDQXCUtDb/OA3Nlgs4dHFRh0TJcSxjL2HRSOLI31eITQcV4Fy2LiUo1uA3Ibc23WE+64x/EK2lrKfE8Nxalo8Kw/D5ojDh9Y7DavHKt1K6oqJ8QaOE2jpIZZYGMcevNM65OgA7uzGqH8L8TrMbFNTS1mAYXLk/8IYzSU8MZgmOI0z/CBalrPC5IeIz8cGE2FrhcHgg3bV/5+RRn8L02TIsk47mu1ttL7N7f0MRljoixCqijrcPxPAq2meTonp62aqp5Cxxa5uqOlLXEOBBHMEEbFZzGehvMM9garDI49IBiZUVgYSOZP8EFwe43sth+5pzVPWS43TNosAhoaGph0VuWzM/Da6vq2PnrdE0sbBPKxvg2p7W2vKNyLKZ16lijLujpqPh+nz/jivta/NqjnPKGQa7B8Sa2rkpZBWUFUW+DSTPsaWooR8pxYmW/6SbWv87kt6srnNNTxcVqLEFlJBT0vpbUSaqqob6QYpaA+wq2uquRKLpGxoNPDBgWPGqSul37tv15JSREV4pmMzRjUVFSTVkzXuigDXPEYDnkOe1g0hzgDu4doXzlPHYa+kirYGyNim4mkShrXjhyOjdcNcQN2Ht5LB9Nf8Q4j/Rxf3iFanlfHpqDJkVbTtjdLC5wa2UOdGeLihhdqDHNJ6sjrb8wFoYtIsmnUo/ieRRXjlf3KeTUOGZxf4VBy/JkuooTj6QMzVdKKygw+EU8EZ8Im0a+LKwXmMEb5g4xN3GlgedjvfqjPYHnvE6/BnVWHUkMmJQ1LKeaA3MJbYPMrA6ZhDSxzdi7Yh3NJ/DMsFbce9P5l8rf/LwRHX45Okn2tcPle3k33BMdo6sOdR1UFU1haHmCVsoaXAlocWE2JAP1LIrm7oNrsYic9mGUsVRSyVFIK2SQAvijuWlzLzs34ZkPku5D1He899JNdRYwaCGmiqYzFHwow2TwiSeeMiJgc19tPFLNg29rjnuu2o+FTjneLG1KlfdXSrv478HPD8QjLEpzTXNdnVvx57ErIo0wzN2L0dLX1mYKaOGONsBo44OGDNLKZGmAFkz+0R7u5AuO9lr1NnXNtREa+mw2DwLd7GcLWXxjmWh0wlmFvnMaL9gXGPw3JK+Y0nV7lTbV0n6s6PXQVcSt81t5S8tE2LzqJmsY6R7gxjGue9zjZrWtGpznE8gACfYtW6MM6xYrSulDODUQuayoh1ag0uBLJGOtcxvs619wWuG9rnw6YKvEo8Pf974I5xI2ZlZxAPkqQ08vElZeVnXG35XqKrrTTWbpS+V3Tt1X37fQ7PPHp9SPKq+DZsGxelqmGWkqIamNrzG58MjZGh4a1xYXNNtVntNvzgr5QH0BV+MNDIaWlikwt9c81dS4DixPMEIcG/LtNg1sJ8h3lnfu2bN/SLXvxB+FYFStqZ4S5s8zxraHsIErWt1tbGxjuqXvdbUbAcibmb4ZOOd4oNNLm7XC/wDLx9Cvi18XiU5Jpviq7v28krIojwHpGxOmr4cPzBSMgNQWtiqIxpDS92ljnaXuZLGXWBc0jTfcd0uKnqNLPA0pVTVpp2mvZlnDnjlT2+ndNU0ERFXOwREQBERAEREAREQBERAEREBFjRsF9BUb2Kt1nm0CqKqohAVQiqpARCigkIqFVupIIYpwOFiz5Xaqismju8FzQ4RPlaHFl99msJ9a1Cky/IXudNU1EjNP4t0kgYHCx1DS8C21tIaOZ5LYszSRtq5mM/FtqJdO5F+uSTcche/1L4rsVa2JwYzVZhLnAlxaBuQATu63JeLa4LKxxZZUFO+LD6rQQHEycNjmtN99IvJYOBO52ssazK8xiEtHPw5jzEghcwcydnwuueVrjs+r3rc10XgkTBJKHl3WjbEZJBcD+TYCS4b3WxZbqmugY7S5zHA6Hmw1WNraXNOk+j0KHaOjimuDBUuDVRvJKYw5p0sexukWHznsb1S6xPKwuBsLLA53wrimMhwtctc8hpsLA7WHLY/42W6Y1V6WyNDy1jhYts2x/m6LWPpWtsnjlk4Um0Oh2oWJAYGm9gAd+5QpepxnBPgljoLrg/DPBmwyRNoniIGQAOlEg4vEIB53c7u2tst/Wt9HWF8CiaS0sdUETaXAh7WFoEQeDuH6RqIO4LrcwtkXuL45PGVJSdAKqoilngFX2RcTFNVvo5DanrpHTUjjbTHWFuqppfzRKGmdvO7/AAi5F42mxuvCupY5Y3RSDUx1uTnMc0tcHMfG9hDo5Wva1zXtIc1zWkEEAr1Ce12cssFONEsLWMdwnBqI1OOTYdRtqKeKSeauhw+OWvLGNLn6ZIojNI8gchclYfAM5up2iHFX3jaLMxTSGxFreX3wDAG0kgbzmsIXaSfki5sa2jNOKywYfU1lHSvxGaKnfNTUkD2tdVyBt4omSWIaHHT1rGwN7HkrsZJ9jMlFxdM0GHpdwerpcTbX4ZitMaClp62owvE8KL6qpo6iUNpaiCjjMonjdMGt3sWOb1wzSSMllbM+EZiFZQVmEzRz4c6ndV4Tj+HQ8aFtS176WfhPMsT2PbG+xa4kad7XF446OcUxumgxvG6zLuO12aqulge5s8FLTYfpZOyKlwjCgyrkfHSQGofM9z2h0gjkebusFtX3OVNUg4lVYnh+MQ41iD6eoxOvxOnpaaCoc0SRwUWGx09VKWUdKy7Wh9ieJqPlWbJ5JYw2hggiZBTQxU8EY0xwwxsiijbcmzI2ANaLk7Adqsc2Y5HRUzp3tMjyWxU8DTZ9TUSXEUDO65BJdyYxj3us1jiPHMuaaWkIje501S5uqKip9MlVINxq0FwEUV9uLKWRgkAuFwtDnlnqJ/C6wt4waWwwRuLoKON9tbInOAMsrrDVMQ0u0gBrG7LnPIoo648Tm/Y88OgcxlpH8SZ75JqiUAgSVEz3SzPa0klketztLLnS0NbyaFdL5VQqVmiuCU0RFomSad01/wAQ4j/Rxf3iFR7L/wBQf/EZ/wDuWqasUw+GoifBURtlhkAD43i7XAEOAI9YB9isjlug8D8A8Fi8CvfwbT8lcS8YdX+k63rWjptbHFjjFp8ZVP7JdvqUs+llkm5J94OP3ZgeiZoGXqGwt/BpTt3mSUk+skrUfuW/+hV3/eYv9w1Sxh+HQQwtp4I2xQMaWMiaLNa03JAHdufrVtgGAUdG17KOnjpmSODntiFg5wGkE+m2y8y1kXDLGn/qSTXtTb5/MlaZqWN3+CLT+6S4/Ihb7nbMFHRtrKasmFPPLNTMjjeHanvGuExt0g9cPc0W9Prtk8ZaDnukuL/JMO/eKKoIP1qR6zI2Ey1QrZKKI1IkbLxQXs1StOoSPYxwa99wDdwJuFfSZeonVba91NEaxgs2oI+UADCywP8ANc4e1WsnxDE8s8qUrnBxfbhtJce3H1OENHkWOONtVGSa78pNvn3NL+6IwyWfB9cQLhS1MdTKG7ngiKaF7rdzTM1x7g1x7F8ZS6T8HZhdOZagQy09NFFJS6HmTXFG1mmJrW2e12nYg2sRfTvaSi0clqdT0a4G+XjOw6HUTchjpY4ifTDG8R+zSq+HU4XhWLMpVFtpxr17p2dsmDKsjyYmuVTTv09VRpP3ONJK+TFcQMfCgqpmNhb80ubJPLIG97WcVjbjtLh2FSfmuNzqCuY0FznUdS1rRuS50DwAPSSQr+kpo4mNiiYyONjQ1kbGhjGNHJrWtFmj0Beq46nVdbM8tV2pey4X7HXBg6eJY7vv+pC33OWY6KKikopZ2sqp8QLoYSHF0rZaemYwssLEaon37rb2uFj8jYvDg+P4tBiRMIqZHmOoc1zmhpnkmicS0EiORkgOrkCyx5G0rQZGwllWK5lDEypa8yNkYXtaJDe7xE12gP3O+ntV3mPLFBXNaK2ljn0X0OddsjAdyGSsIe0HuBV6evwSyTdS25V83a007+X2+pUjpMsYRVq4PjvTXuQ30wY1T4xW4Zh+Fu8IkbJI0zsa4NaZjEDocQC5rGxukc4bAAbmxtPiwmW8pYdQ6jRUkcDnDS6Qanylt76TLIS7Tfe17bLNqnq9RCcYY8aajC6vu23buizpsMoOU5tbpV27KuwREVItBERAEREAREQBERAEREAREQEWDkPUl1Vo2Cqs+jZCoVUIlElAV9BUsqoCiqiIAVRVRSgRF0t4VDDUQyMaWCo4kknWcQZQ5upzQ4kMvqBs2w7bbqOKmKoZI9rAyWM35O0v6xuBYg6uztU6dLeCvqcOkdEC6el1TxtaLue0D5VjR2ksFx6WBQ3hXDliuHdWwBtz5b3J5G/eokvVHuEuaZiGYMQDKKWRsva7Qx1wf6wJ+pX7MXqiGxtgl0ghpcWhtjaw2ur5mDQjr+Ey7fN4mx9HJeOO1UcEJbr3LTpsRcHsBHaV4ty4Okmoq0MTBPlO1aQL9wNt1vXRfk5s0UVe6ZzQ+R4dEI2nWyF4a3TITdgLg8O2Nxy081DRxF7iyIOLzsXkcrns9K6c6NacR4TQNHbAHn1yOdIf1uRQo5qd8mxOKKqL2eAqFVsqFCCgQohQg+VaU1HwSXUc09C4lx/gkgZFqcbueaSRr6Z8hJuXOiJPertLIm12PLSfDLiPGsUaLCvEn509JA5/rBgEbQfW0q3qamuluJsSrHRkWMUJgpG37xNSxMnb7JR7Usqlet8vJ4WKHgt6OjiiDhFG1mp2t5A60jzsZJXnrSyHtc4knvXsqlLLwewEJRVQklNERaJkHnUTsY0vke2NjfKe9wa1tzYXc7YbkKz+/tD55S+8Q/8AuWu9NY/0DiP9HF/eIVGPR70ZYVW4dT1dTWVEM0pm1xxy0rGN4c0kbbNkhc4XawHc9q0dPpMU8Ly5JOK3beI36X5RSz6mccnThFPi+XXrRPVHVxSguhljlaDpLo3teAbA2JaTY2I29K9lpuVcIw7A8PqXtqpHUnENRLNM6N5a4tjh0t4EbdVyxoDQCSXW9C113Tfh2q/geIGDXoE/DhDS4bbAze217+jsXKOjnlb6Kcop96r/AB+x0eqjBLqtRb9LslRFrmKZzoosLOLtMlRRgREeDtaZHcWdlOAGyuYA5r32cHEEaT2iy1j/AOMuFumo4Io6mSSrdAwi0LRA6d7WNZKeKQZBqBIZqA5XvsvENHmmm4xbptP2a72ep6rFDiUlzT/MkpeVXUxxsdJLIyKNu7pJHNYxoJABc5xAG5A371A/TDn4uxKnhpJa+nGHVEsda2OXgsqC2WE9QQzfKt0xyD5QN8r0lbXmrN9NiuWsVqaWOeNkTm07hUNia8va+llJAikeNNpW8yDcHbvs/wD1mRLHKXabS+lul+fdHD+Pg3OK7xT+9L/ESZR1UUrBJDJHLG6+mSJ7ZGOsS02c0kGxBHsXsoMyL0oYfhuEUFJIyaoqAJ3SMgEemIPqpnta98j23kLXNOlt7X3spXyZmilxKmFTSl+kOLJI5AGyxSAA6JGgkXs5puCQQea5arQ5cDbcXtTaT88/1Omn1ePKkk1upOjOIiKkWgiIgCIiAIiIAiIgCIiAIiIAiIgCIiAi1p2CqqN5BVCoWbJUKiqVRQSFVAiApdVREAREUoHzKLtcO9pH6iuTMXM0BfwrlhJJbc7Hbf0HZdM5lzRS0hbG9xlqH+TTQ6XShtrmSUFwEMIBHWda/IaiQDAdZTGQuOw3J/yRuhttEfPzDWB1g5ot2X3PdcL4mkqKgtMrnOI8n0Xty+oKRYaaEDTJSs18w/htcHD0PsbKsWEtLm6GBoJ3NrW9QC8PIR0mzC5YwZ5LbizWbkntPYPWulcivBw6ktybEI/0bnM/9Kh90TY2hrQB+8+lXLcSxGkhFXRVUgbAQZqOU8Wlli1HURE/8U8aiSYy0kX7QF5xu5V5O047YfQnJFoGUOlShqnCKpHgE5A0mR7XU0pva0c9hpd+bI1vPYu3W/g8vTuPSDyI9C7yg4umcIyUuxRFUr5K8AKiqEKEHzdAUVbIAiInKBSyqiKLIKFVKoqoCU0RFomSad01/wAQ4j/Rxf3iFRh0e9FFFX4dT1s1XPFJMZdTGCDS3hzSRC2thO4YD7VNOccDbXUM9E6R0TZ2taZGtDnN0yMk2B2Pk29qjE9AlKeeITH/AMvF/wC5bWg1cMeB4+o8ct12o7uKoy9XppTyqWxTW2quubNjxbwfAMvvijHhrGOfFGycMLZX1cr3FswYADENbiRbcNt23WoVn4Ry4HLVSyYQzDZaFz/A+Dw+HSujuzghjLMkDdJYNZsdPbstzwLowpIMLqsKklknhqpuOZNLYpIpAyJrHR2uNTTE073vcgghYWj6GzodT1GM1s9GA7g0gD44Y3kHhvcwzuY7S46rNay5HrXrDqNPG3KSct97nBvcvZeju/7nnLhzOko0ttUpVT9/KNUwtxORa8Emza6ID0A11A631kn2qSeg3DoY8EpHxsa19Q18sz7DVI/iyAaj2gNAAHYAvil6NomYLUYN4VIY552zGfhs1tLZoJdIZexF4AP6y2fKGCtoqKnomyOlbTsLBI4BrnXe59yBsPKt7Fz1usx5MU4wf4srl9q/udNLppwnGUl2xqP3sin7oWJjcQwMhrRqllLzYDV/CKO5efnczz7yt46YYWMwHEgxjWAxsJDWhoJ48QvYDnsPqVx0lZHgxWGNkkj4JoHOdDMxofpDwA9j4yRrYdLDa4N2DfnfHYT0eOjwmswyfEJql1ZIHuqXRkPjDRCGsYySV/VAhHN3ziojqMTx4blTxy5VPlbrtPtwhLDkU8lK1NcO1w6qqLXoHwem+8UT3QxudWOqfCC5jXcUNnlhax1xuwMYBp5bnvK137mQWdi7B5LZKUAd1jVj9gH1KT8k4A3D6GGhZK6ZsPEtI5oa53ElfKbtbsLF9vYsT0dZGjwt1W5lRJP4W6NxD2NZo4ZlItpJvfin6l5yayEo51b+eScftK/2JhppReJ1+BO/uv7m4IiLKNEIiIAiIgCIiAIiIAiIgCIiAIiIAiIgIubyCqqN5BVWebQVCqhUKAKpVCqhAUCqtKzZ0lYfRudECauoaSHRwOboY4dkkx6rSDzDdRHaFFeZOlXFaklkL20UR2004PFt6ah/Wv6WaPUu+PTTkV8mohAm7MubMPoQfCqljJLXbA35Sd1+Vom7tB/KdYelRBm/peq59cNCzwOI3HFuH1Tm8tneTB2+SHHucFGVVUOLiS4vc4kvc4lznOO5LidyfSVWnB5q7j0sY8vkpZNVKXC4M5kfEGisc2Qm87HM1Em5kJ19YncucQdzuSVniAJNJ5F1vrWhyRkEOaSCCHAjYgg3BHp2UgZemFZB1Reph0maMeUQD+NYO1h7bcjt3KrrcNPei5os1rY+5d+BG4sb+vsWUpqINGo72H1f4rLUeDOIDvQNl6T4c/S5oFidlmNmtFGsOj1v5dUGyv8ANM8dPhdS51ryR8Fje1z5uqLeoanepq2WlwOKCEy1EjIoo265HvOlrR2ucSog6QcweGztZC0spIbtga7Z0jj5U8g7HG2w7GjvLlY0mneWd+iKuszLFB+WYCmJLT6VtmU86YhQgMgnDoR/8vO0yxD+aLh0Y9DSFrUbNIsqgj2r6CWNSVM+fjNwdomvCOl2B1hV0skZ/Lp3tmZ6yyTQ5o9ALluGAZuw6rdop6lplI2ika+GU/zWSgcT+rdcytlDe1XMdSDzA7D7RuD6Cqs9HB9uCzDWS9Tq0hfIUW9Eue3yyfe+tkL3m/gs8jrveQLmCR53e6wJa47mxBJJbeUlnZcTxumXoTU1aCIgXI9BCiKQLIgRQASiFUUsEqIiLQMkItZ6UsSnpsIrammkMU8TIzHIGsdpJmjaerI0tPVcRuO1RblypzrW00dXTVrHQy69Bc3D2OOh7o3XaYNusxyu6fQyy43k3Rik6+Ztc1fhlTNq1jns2uTq+FfBPCLU+jpuLRUsxxyZjp+OTG+8Aa2AxxhoJhY1o6+vnvv6lnqzF6SJrXzVVPE15sx0s0cbXkbWY57gHexVp4nGTinur1XKf0O8MilHc+PZ8NfUvkXzHI1zQ5rg5rgC1zSC0g8iCOYVnVYvSRyNilqqeKV1tMUk0bJHX5aWOcCfqXhJvse20i+S68m1EZcWB7C8blgcC8Dbm29xzH1qPcoQ42Mer3VdWyTD/luFEJ4XjSZB4OI6dh1wPY02cXAXP5VwR1x4d6k7S2q+fX6HOeXa0qbt1x6fUkdFbOr4A17zNEGR7yOMjA2Mb7vdezOR59yYfiEE7ddPPDOwGxfDIyVoPdqYSLrlTq6OlouUXjWVcUTDJNJHFGOb5HtYwetziAF54fiME7ddPPDO0GxdDKyVoPcXMJF0p1foLV0XSK2nxCBkkcL5omTS34UT5GNkktz4bCbvt6ArlRRNhLqEM25jzBJmCrwvDKzQG6DDE6OkDWtFLFLJ8pLCSd3OO57Vlsu0OcxV0xrKmN1IJ4zUtHgNzDqHEA4cId5N+RBWjL4c4wUpTgripJNu6avwUo61Sk4qEnTq64tfcllFDfSnmTGo8cgw3DKsxcengMcRjpi0yvfPdxkmicRcMHbbZKWgzzxGa6uMs1s1j/R+7NQ1DaC/K6L4c9inKcI7laTbTr8g9atzioSdOrS4/cmRECLOLoREQBERAEREAREQEXA7D1Kq+WjYepfSzzaCIiAKG+mnpBmhqH4bSvETWRt8IlYflXPkGrhNd/JtDXMvbcl3MAbyvjmIspqaeqk8iCJ8p9OkEho9JNgPSVx3mDEZJqmaaU6pJXPke7vfI/W72A7D1K7o8O52/QpazLtW1ep7STm9lQy2aSrKlkvYHmveoNh61p0jMEAPM7kq5ln0gDtKtoX2BuQAASSexfFGXPOtw2PkD83sJ9KAuWykjcbr2oK+WGRs0EjopYzdkjLXaTsdnAhwINiHAgjYghUDe0qj4wez6kcU1ySpNO13JjyP0lU02mGv00k+zRNypZidvKJ/g77/ADX9XcWdvYbxi2IQ0kEtVUHTHGNXK7nOPkMYPnPcbAD09265WxN742OIN2+k6XD1H1XVlh+N1lQI6aWomkhiDjFE+V/Ci/msJIa3ssLdyzMmghvVcJmrj+JSUHa5N/zrnSoxCQ8R2iBjrxUsZuxluT5HfysvPrHYfNA3vgqZx5kLypIxazRsObvyj3Afv9CvmWWlCKiqXBmTySnK5O2U196t6lwBFu1XRAK86qEW/YvZ4PCYbNcO1fMciMkAGg3N729YF7Lz7/UT9SAuaGqOtrmamlr2ubIDYte112uYeeoEAg+hdUZVxUVdFTVQI1SxAyBvJsrepM0dwEjXD2Lk2jeNvWPZbl7VNvQDjV/CsPef/q4OfI6Y52juAPCdbve5UdbC434LmknT2ksoqXQLKNEFAiIQVRURACqr5VSgJUREWiZJp3TX/EOI/wBHF/eIVFWQvwu+98H3r0eA/K8G/wB77/jpOJfj9f8AGa+f7FMHSlhs9ThFbTU0ZlnlZGI4w5jdRE0bj1pHBo6rSdz2KLcuU2daKmjpKaiY2GLXoDnYe9w1vdI67jPv1nlbugmv4VxvHe+6m1VV3X+eTI1kX11L5621cO92bPnAYj+CVX99reHWHFtwbafDmcL8R1Pxejl7d1rXRv0Y02IYVHV1c9RxZWyx0oY8cOlihlkiaAxzTqBka95FwLP7CSVstVR4/WZfxKnxCmBr5JWNpomOpWa4Wvpn31MlLAbiXynA7epbR0TYXUUuD0dNVRmGeLj8SMuY8t11U0jetG4tN2uadj2qHqZYNPJQlFS6v8rXbb/L7Xx+hKwRy5ouUW49P+Zet+vuRZ0Q5mqKfL2MyNcT4GGSUod1hE+pZp2B5RiQB+nlcu7yvfox6M6TEaA4jiMtRNNVyTEFsti3RK+IyPc4Eyyucxxu7axGyy3Q3kariw/FKLFKZ1OytZFGBxIJHFoila5zTC9wa5pc0i/bZY3L2D5rw0S0WG+CVlIZXhkxkgdHC4mz3Br5Wvhk5FzCHgOva9yTby5oueVYJxhJyi7uk412T+vJXx42o43li5JRaqrp33a+h49EOGOpc1V9K+UzugpKiMTO3e9jZaLhaiSdxHoFuzTbsWQ6OAPwxxvb+Tq/7zSrHdDtJPFmivjqJhU1DKSp8InbctfM6aidLYkDYPc5vIeTyHIbTknLVdDmXFK+anLKSoZUCGbiQuDy+enewBjXl7btY47tHJedXkSlk3SVvDH2t8dl/QnTQbjCk+Msvt37kf8ARzlGPEsTxWGeWVlJFO+WaKF2gzy+EVDYNRIIs0GY3tfrbWuVl8qYZ96s3soKWWQ01RG5rmvN3GN1JJUNa+wAeWyRbOtex9JvtHQ3lmvo67GJaunMMdTI0wOMkL+IBPUvJAie4t6r2HrAc0xDLNe7N1NiTacmhYyz6jiQ2B8Cnitwy/iHrvaNm9qZtapZckHNbOlwrVOW1frf39Bj023HCSi92/njmrf6UaFnfHYKzHqhmKCskw6gklgipaRupxfC7hOc7rt0a3h7i8dawa3bmLWHFKOkxWiq8ChxGniMjI6unqWO0PjdIxpa13Ee57XNL9nnquY0j0b3m7KeLUWKyYzgbWTeEg+E0ri25c7SZOq9zeJE5zWv6rg4Ova4Vzlo5rrK+Ces0YXRwH5SFjYyKhpILmcJ75HF7tIGtxbpBJbuTfotTjWJOLWxQpxc65rlOFNt36/c8vBPqNST3brTUb4vj5rSqvQy+bOjiKtxWlxN1VJFwOAXwhgdxDTyGSLhylw4O532dfs0ndb4o7znQ5idjNFJQS6cNbweMBJE2NoEhNTx4ndaUuZYDSDbs0ndSIsHUSm4Y901JbeEv5V4fua2BR3TqLXPLfr7o53zT98vwurfvTbw3qaL8G2jwKDif9I6nk963vIv4W+HQ/fXT4DaXi2+9978N/D/ABHX8vTy9q13NuXMwR5gq8Uwyj1h2gQyukpC1zTSxRSfJyzAjdrhuOxZbLtbnM1dMKymjbSGeMVLh4DcQ6hxCOHMXeTfkCVsaiSnhjteJ/6aT3Nb00uy/p7mbhThkluWRfO3wvlav1/qa50w+F/hRR+AW8M8GpvBr8O3E11VvxvU5X8rZbHlr8NPDKbw3R4JxmeE2+9l+Dfr/iuvy/J3Vp0p5bxqTHIMSwykMvAp4BHKZKYNErHz3BjmlaTYPHZbdKWvzzxGa6SMM1s1n/R+zNQ1Hae/K6Skp4IKLxOoU9zW5Pnt/nchJxzTbWT8V/KuH9SZAiBF84bgREQBERAEREAREQEXNOw9SKjeQVVQNkqioqoSRf8AdE4zwqCKkBsaqQveAbfJU+lxHtkdH9RXNkrruue26lD7orFTJir4AbtpoYoQO5zhxnn1/KNH9VRZOdh6CP8ABbGmhtgY2onumy4pnAPbf029f/8ALq6qTy7FYOb5PoIK++O15Avs0m99vJO/P0ruzgXFS2+mMfPs5/8AMHZ7TZX8I7lY0ZuXPPzj1f5jdm/vPtV/F2AdqA+xuvpjSPSexXWGUEkzntj4YEbQ+WWaWKnhiYXtjDpJ53NYy73taATclwsCrvCtNLiMDa+BvDp6tjayCZjZG8NkobO1zDdr+pqI5g2FrhTZKRgcShbJG5huXFpII7NJtq27BcfWsZgWDSMOuTS0ECNmhpZrbHz1E+U/fchTJlSrma6WSmpMWNP4eyqbVUccMcGIQwM4PglZMIqWnbSPsX6WRlreO8GJxsVXEH1suFR4ZHh7w6J/FtTVMFXq/hVdUOiZRwzvdGAKmENexms8JzXHSRaKtnvbwR7E2wAHcvSwA/5K2rK2E0vykOIMigqhLFePE5qjDWxUhjnMkzAJI3um4jYW7iXS15cIpdwMRV4BOyDjkwkcGKodAJg6pjppnsjhqJItI+Sc6SLcdYcVhc1gcF6PLjRjGn0qurqkfUvNfL3Ws7u7EPJY1ztILyeTmO9hOk/uSslAZ67D69vavrFgDG/8ktv7CViuMSxlzcsjLvWdmC/1n6lAL+mOwPetqyRjYpK+kqyTojkAl3/kZAY5b99mPc71tC1Yt0saPR+vtVzTHqFtu0HftvzXmUbVHqEtrs7Bv2jcdhG4I7we5AtR6IMZ8KwmAk3lpr0ku9zeEARE+kxGM+slbcsGcXGTXg2Yu1YREXkkBECqgKIl1VASmiItEyQi8ayoZHHJLI7THGx0j3Hk1jGlznG3cASocf0w4g8SVdPg7n4ZFKInSuMuu7i0NDpWNLI5DqZ1bOAL2i5uL2dPo8ue9i7eWly+y59WcM2px4q3Pv7X2+hNNkVthVYJoIZwySMTRskEczDHKzW0O0SMdux4vYjvC9aiTSxzrX0tc63K9gTa/sVdpp0dr4s+K+lZLFJDI3VHKx0b23Iux7S1wuNxsTuFEcXRXi1I6RmEYyaellcSY38SN7Ra1zwgWuksANbQwmw5K1g6d5Xi7cFLuV9Ne91r77kUS3no66RKTFC+NjH09VG3W+nkIdqZcNL4pG/jGgkA3AIuNt7rWWDW6ODe35eL/DJe1rn8zOebTamSV8+neL+z4ProzyHFhbJXGV1TV1FuPUObpuAS4MY0kkN1EkkklxNzyAG5WRLrMzZp5ZOc3bZfx44447YqkhZLLXqjOFEzEo8Jc6TwyVocxojcYyDG+QXk5DqxuVl0p5xdhVJFUtpxU8WpbT6DMYQA6GaXXqDHX/FWtb53oXuGmySlGCXMu3pa+54lnhGLk3xHv61+Rt1kVrhNVxYIJiNJmhjlLb3DeIxr9N7C9r81dLg1To6p3yLIl0QkJZEQCyIiAIiIAiIgCIiAIiIAiIgIsB2HqVbo3kEKoGyVCqqBa30nY54FhVXUggScPhQ9/Gm+TjI7yNRd6mFeox3OkRKW1WzmTpIrxUYrXzNOpjqqYMd2Oa15Y0j0WaFrUm4IXtJ+sfr/AM14n0fUt1KlRgtnlHUDTY8xt6isdQy63GIA/jHF57LBxsB+32L0q7iQ9ztx+9eOCEiaU22Bcb+v/JeH3JNqgbyA5clkqKmlkLo6djpHhjnv0jkxtgSSTbynNAHNzntaLuc0HFUry7yeXae/1LYMv10tMXFkLZmVDRCY5Gz6ZXRSwzs4UlPJHK2ZkrIHAxvBBte4dY+xFG4zUkMXyNEyIOMLIsVw7FoZSykdRyB0lXXzsMZiDJdLmyRudxhU6GxM0COTB4lj7BPJNTBstTI9z5cSqYY3TPkJ3NHSPDoqCHnp2dKBbrR+QPjOOIP1SUutpfxeJiEkYDWz1rNTeE0N28EpQTBG0dW7XvHli33lzJVXVxwPhmoY3VUzoaWCoq2x1FRw3Fs8sULGudwIiDqcQD1TpDtgYpd2em/RGDrqqSeXjVEklRLa3Gne6aUDuEkhLgPRdecjARYgEHsIBB9hUo9JfR9hWE4cxj8R42NGSN5hGzZIHXa9radtzBEN3iWQ9Yxlo56RFoXqLtWeXwZSgxyWKMQSOZPS9lJVlz4G9l4OuH0km/lwOY7le42O1UNZHIxgL2nD9DaapbOIWVlPpDpaCjrMRhibI/CX1bIGidujSOo7h6WXuOiTM2GUkVUystFLK4HjGB83Fh0gcA8Nji0B2o2Ox4noWpR4qyOskqKaEMp3STAUrz1H0cziHUsmk7NMZA2vpLWubuxpFLBqsk888TxuMY1Un2lfj/PqWJY1GCld36eD3zNQRMc18DGaRFB4WKaU1VHSVknEJpo6sPka68bGSBplkILntDnaNtfnfYbrc8exrh05oA10kJpY20k5n0QOopalldFO+gbGGffK7GwyTh43jeC0lupaLWkq8V5Kizkn+SlYdy0EtPoIv+1WFMdWgAbOlDf6se7j6r3HsX3XPLWyH8w/s/xXxgzeswfkR/8A3OIuf1H615ZBlal24C92cvWrYN63t7VcF+52vb/mymwSX0AY5wa+Ske46K1gDBfZs8Ae9m35zDIL94ap5XJOEVj6eaGojNpYpWTN35OY4OaD6Dbl3FdW4XWsnghqIzeOaJkrD+a9ocB6xe3sWXrsdS3L1NLSSuNeC5VVRVVEtIIEVEB9IqBEBKiIi0TJMB0g4vTUmG1U1U0vhMToTE02dMZgYxE09hdq59guexQ10O5rlwx8FHiEb4sPxICopZpQAI3PswTau2B+hgPLTdr7AOJMm9NmX5q7CZIqdpfNDLHUsib5UvDD2vY3vdokcQO0tA7VFuM56wyrwVmHYhTVMddSRMigfEyMhk0LBGx95Hh0bXBoD2EcibXIBG/8OxRnp3Dbu3SqVd4pL5ZJfV8v7GPrcjhmUr27Y3G+0vKbOgmVkRldAJGGZrGyOiD2mRsby5rHuZe4YS1wB5dUpX/ipf6N/wDslQV9z7F/pSoNbFVGtZRxeDyTMkLYoC1rbPLxeMuiEIYTYFrXAcwp1r/xUv8ARv8A9krM1umWny9O74XP18exe02frY99V3/Tyc6dDXSDR4VT1EdVFVSOnkjkYadkDgA2PSQ7izMN7911mejiOXE8wVuK00clFSmOdvFaG3bLLTiBljYsfUE3mI3ALd73BN19zRhtLPSVpmp6ectnhDTLFHKWgw3sC8GwU2QwtY0MY1rGNFmtaA1rR3Bo2AWt8S1ePFmyxhH55Km2+KaXZGfodNPJjxylL5VylXPr6kV9Dma699dX4VisxmqoC50TnNjYfkXcKdjdDWhzTeN7e2xceS+Mu5lxDEMyVMNNUvZhdEX8SNrYtMvCHBbeQsLvlJ9Ttj5EZWH6d6GagxKlxujPCfMHQSPA8mobC6Nrj3l9OXD/AMC627oDy74JhTJnttNXEVDr8xDp00zPVou/1zFeM8cMcL1KS/1IqKVL5ZfzNL2rj6nrE8jyLA2/kbbd94/y/vyRVXYTjozBT00tdA7F3RgxVYe7hNbwJnAF3g4P4tsg/Fnyh6xtvTdS1keXcNixCZk9Y3EAJ5oySx5MFcWlpLGXswtHkjkvHpMrvvfmqixOojkNLwWEOYAS60U8EgZqIBe3iNcW35Ed69+nXHYa3L+H1sIe2GbEeoJQ1r7Rw18RJDXEC5jJtfkVdjOc8unntW1pcpJfN83H09is4xhDNG3ab4b9OOf/AGWFZBmk4a3FmVraamhp2SxUULyx7KSNjdL3MMZbI7QNZD3Ekdx6i3PBukN34NnF6hjX1EWqAsb1GzVIk4UZ28hrtTHuty61uQWUzB/1Yn7vvK7+5KO8o4FLXZOmgpxrmbWSzxMBHyjoZGOMY7NTm6wPSQqaePPj3ZIxSjlirSr5Xdpv+vcstTxTqDbbxt8u+V4PXB6HN2IwDEWYk2mbLd9PBrMAewE20xxxOa2M26pkJJ2J2NzsHRvnqrqqXEqWtGjEsPhmcZA1rC/Q17CXRt6rZmSNsdI0nU2w5rB5M6XqWjw+KjraapbVUUYpw1jGAPEQ0Rh/Ee10MgaGhwI5gntsHRXhdTK3HMcqYjC2upqsQtNwHiYvnlewOFzEC2NrXdvW7l01GJ7J9WEYpNbGklfPZeVXLOeHIt0OnJybT3JtuuP05MdkjEs0YvTyRwYg2GOB95auS0Ukj5GN0U7HQREgNDS42A/G7k7BbP0L5oxF9bXYRichnmpGyPZI7SXt4MzIJmGRoHFYXSRua477n0AU+5hcDhdVYg/w93L/ALtTLG9Gjh+GWNC4vwa/b/ztEmq2SlnxbIpQVqopNO16/cYN0VinubcnTt2q59Ca0RF82bgREQBERAEREAREQBERARa3kERo2Cqs82QoL+6WxnVNS0DXdWJhqpR2a5CWRA+kNa82/wC0CnComaxjpH7NY1z3EAkhrQXGwHPYFcg5txk1lZUVUt9c0rnW/JYOrGzSTsAwNHsV7Rw+bd4KetnUdq9TCvj7V4yjtsvVw7j+5eUrT6wtSzLMXinNju64PtVthlXIJpGNa3QHAkuBNyQD2ehXleCW2WKp5pdTgxrQAd3HnewXGTPSNypqzYDYd9uS3TCmthqqORtnGnwuTE7HVbwhlNVVsDyC4i4kFK3YAERi47VE0M77gcyt5y68GSgEBa11bDV4bUNaGam1ErZYWSuaLFzS2rpHaze5ieL9UgelI9xRsPRVRYTUYgyHGah8FJw5HBxlEMcskbdYinqL6omOYH7tIcSAAQTvveZ865dmq6SKlom09JhQfNS1N5qSOWoj0vjiMFLC6Z1K5zQ46tDnujA6ocS6DzVWHW2d2juPavgEv5H9yPl2eUzOZlxKKarqJYOKWSSFwdO7XK82Ac9xNyAXAkNJcWtIBc62o2Ik2Xk2ENC2TJOTq3EpdFLF8mwgTVMl200F/wAuS3Wk7o2anm42tcj32Ipswtxa5IAtuTsAO8k8gs5NlfEmUfh76KdlHteZ7Q2zTykMbjxBATYcUt0XI33W45ulwrLtO00XDxLHHS8MVNVHrgoi1uqSWGAfJskbYNALnyBz7lwALV8dEef8x1VRrrf4bh0jZBLUTQwU72u0HT4O6KNoqmuPVcwtcLOJLhbS6tk1cYK/QmWyK3SaRqtPXOazB5AziPirKil0BjZDJEJaSpbCGOc0P1OrakWLm318xzGmVmLBkYNi8EgX9mx9qk/pToYKYUpo4OBxpMWqRFGbxwuFJSRB0Ic4cNrSHPABsC3qiwDVELWtdqjNgHCw9FuS6QyrJBSj2Z5UlNKUezPnFqgOgdIw26jvYbGyZdZKI9UhuXhpa7tII7uzmFr+IUs0Zc25cAHXF7WABJV/l+ofojFy4Wtbna37EUrZNG3xC257BfvPeqUm93d5VvHIdA9VvWriFp2HPuAXUhl0dze91O/QHjXFoZKNzrvo5CWb3JgmJe3+zJxB6BpUFWAG53HMDc/UOXtW99CD524rE6GKR0TmyQ1L42GRjGOaXASyt6kZEjIjYm+2yr6qO6D9ixppVI6CsqhHKqxTUKFFRVCkAqi+lRQCVERFomSFbS0EDniV0ELpRykdGwvFuVnkXC+MaxSClgkqal/CgiAMj9LnaQ5wYOqwEndwGw7VrDOlPACQPvgzfbeCqaPaTFYD1rtjw5Zq4Rb+ib/Y5Ty448SaX1aNyDBcmwubXNtza9rnttc/WqkK3w+thmjZNBIyaJ41Mkic17HDldrmmxX3DURuJDHscW+UGua4j1gHbkfqXJprudE0fccbW+S1rfUAP2L6ReFfWwwxumnljhiYLvkle2ONovYanvIA3I+tO44RF/SngGIYni1BR+DytwqBzXT1F2tjc5/XmI62q4jaI2m2zpHdilWNgaA1oAa0ANAAAAAsAAOQAXlQVkU0bJoJY5onglksT2vjeASCWvaSHC4I27l7rvmzynGONqlBNV7vu37nLFhjGUpp25ft6Jex5VVNHI3RLGyRl76ZGNe245Gzha6q2njDQwMYGN8loa3S31NtYL0RcLOtIoWC1rC1rWsLW7rdyoxjQLNAA7gAB+pfSKCS0qcMppHiSSngkkHJ74Y3vFuVnObcK6sOVtuVvQqopbbIpHzHG1uzWho7gAP2KjYmglwa0E8yAATfc3K+0UEhERAEREAREQBERAEREAREQEXN5BFRp2Cqs82guVukvAnVmJ1lUyRzHPneQQCbhp0N7d9gPqXTuN1nCp5pT8yNxH861mj6yFA80fX3Nh3/AOS8zyOHY9wwrJ3InrcLxCHd8XGYPnsBDrd5Hesea9p21OYe1jxbf2qZZi6x4biT/wBo1mk+xpBWr5mwSKoBL6YiS2z4u/0jt9oK7YdfNcSK+b4fCriaLg9LLV1UNFTR8eoqHiOKJpHWJBJJJPVYGtc4uOwDSexWMlA6GaogdbVDUzwmxJbeGR0RLSQC5pLCQbDYjkuoOgWPDcPwqKOWelZVvlnmmdJpZKwyuDWRl7xcDhxRXANrhQvm/ApJMSrxBHxGmsqXxvi+UjdHLM+RjmyDYt0ub2q/h1SyN3xRQzaVwSq2aeywHIcltWQ5JYpI5IYTUTCtopI6dou+XhGd5sfm7XbqOw4t+zb6ouj2veA5zY427bvlb+xmorc8i5YlgnkvWxxAx2cI3vDX7hzWuuAHWcAe23NTl1WNJ002e8GkyOStNIvMV6OGySPdwy9wedD4WhzyA7qcaFvlki1xv279q8a7CZoZ2w02FxuMhjDG09LI0ukaLuAZHu13lc+y5PK4v5cRxWlqNMcTquE/ysb2lwufnMG7vZf2LNM6R54y1lTHURAixEjXMuO0WNtYWbi1kovnkuL4bFP5JV9TRqjEzHiDaKro/Jqo4p2RTtMjdZjBayaJp1loPJrrO5Ai+pS7mAV+H0UVNg7BPPrbTwNqZbUtJHIZJJamRgcC5rRGGjyjeRuztwdKxPNNI+sjq4KKkmlboeKqWO0glYNLQ17XWc5tha9yLDuWyZQzG+tmbTvZ/C5C8sjYdZfG25dIfyGNIsSdvUmXXOXEE7Kerw5seOTxLc1f6GOw/JFOGQvxARV9TGS8udGRTiR3MiB7nB55bv1b7gN5DOyMNiQ0lrLAkAlrByaCRs0dgW1w4dTNI8Jl1n/Vw30D0PkG59TfrWP6Rs60uG0BliEZc4ujo4LAMmmtpdqYfKhZe7y70N3c9t62HSSzP5mfOQ+FZ5x3ZflXpZCPSriF698bQXMoaVlG43bpbUVRkknBBNy4CWSOwub0/de0ZVcFjqH71f19dI9zw95dxJTPK4huqSY67yPcBcn5ST0Xkd3lUaGubv2L6KEdkVHxwamOKjFRXoYnFwDTyPAvJoc0em40/XYrLZgyxJQU2C1Oh5gxTCaCoa4NIDKkUsIqIS61tZu2Xc3PFO3VJVrPT6yY2gkkbAC5LjysF0BmKSnqsDpMGZG95ipsPjMughkb6VkIdouQ5zuo5tx+UVXzZljaZdwad5U6IEbKGgdWw73uA/ZdeE2MsBs1xe78iJpP6x2e1SnR9F1Bs6WOaWxuA+aRrf7DHC49d1k5MHo4W8NkDGNF7ADT+xVZ/E/+KLcPhUv5maN0NxR1eLUsFZTHwZ5kBjdxGB7xE97NZaRqbqaOqdjfe66qoqWKKNsUMbIYmABkUbGxxsAFrMY0ANG3YFAOXqZkVfSzQ7FlTEbfm6wHfqJXQltlXlmlPls6dGOPhFF9L5VQvIKqiFLJZACWVEuoJZKqIi0jJNO6a/4hxH+ji/vEKjro9wHLEuEQy4i+kZVkT8YvrnRTtDZ5WsPBEws7QGWGnfbndSL01/xDiP8ARxf3iFR70ZdFuG12G0tbUPqxLKZtbY5Y2x/JzyRtABiLh1WD5y3dHOMNG3KcoLqd49/w9u6MnVRlLUpRipfJ2fbuWXQ1jdVSUeNyUdPNiEMEtG6mp2iTXI+aeSJ7miONxD+CGPcA024beV7rEdFuaKyjq8QkpsLmrXVcsfHZGJr0xEs7uvwoXEbyOHW0/iz6bdC5cwOlooG01JC2GJp1WFy5zja73vcS57zYbknkO4KH+gvEqeDEMdFTPDTl0gI40jIriKoquJYvI8nW2/dqC7w1WPNDUTWO72cW7atLmvpfHk4y088UsMXOvxenbu+L/InIqD+nXLmJyeGV9RVtOHUgp3UdOLjrzSRwvaYxsHtL3HiOuSCALXNpwWj9O38QV3rpf75TrK+GZpY9RCq5aXa+G1deDQ12NTwyv0Tf5L1LjoX/AIhw7+ik/wB/KtwWn9C/8RYd/RSf7+VbguOs/wB+f/aX7s7ab/aj/wBV+wREVY7BERAEREAREQBERAEREAREQBERAEREAREQEW9g9SovockAWcbJqHStVmPD3b24ksbPZu8/7Kienma6xcVJvTW0/e9jxyZUM1epzJGi/tIUDPrJQ7Y7XXjJGzthnRvlNJECOqL+ndZBlQ22wAUf0+Iv9avGYu8DmAq+1llZEbtI8ej9Sti/v5LUX4/Ybu+pWz83tAI0vee5oJKbGyJZUby+oaBYEbAki/Z2rW4xSzSFs8z4nX+TINmOBvzNtuxahX5nqTfRTOa3fdz2t5rD0uZGawyoF7F3VDxqAP5JHau8MT7nCWojdEotw/FIXaqJ0VZFzAL9EzSOXVvZ49II9SyUWcazhOiraBw1EsMVVCA1w5EDVs4HfcErVcuQVDw2TDa1jwb2hnNpGHuEg7PQR7VmoMw46BwqimLDGQzrSsdFI0uADmPHZbv3sm1vg6xnHuzasvZ/owRTyQRxue3hCnlisxzL2Okki8bW72aCOqs1UZmpqeJ0NFCwSS3uynpmM1WA2ZDTs1PYLXsdXMntUeT4xE8OfWgYbC3ZzInRcWpeN7ucSeGwbi/lb/NtdXtLnyFsPCwagllJFnOgje8yOsbGark2ceflONlElJcHqOPGuUkjZIfC5C59SfBo3A+W9omeTyAjBvE3+fpO1rbrAVENO2pMkdQyY8LgOd8lPpikk1yQkPvoBs5pLbHTLIPnFarXT4jK5jq6eHD4XvLSxjnVNSeo5+m/VZELN577kbc7fD6miY8MptZdbrPfIN7crNbsP1KYbo8pkZZRyKmrRY5uypDSNFS2R81ONRkYRpkYGMdISHNPXj0Ndc7Eab7729MjxYDX6m076jjRtD5YZTYtBOkOadA4jL9oO1xcC9l99JFQX4NNIx34stD7ONyx7HwP5Hl8p9V1GnQdOWYqTyaaaZrz2AaoiL/1gFZ3znicrdoznHHjzKCiqZ0Vg+CUMJJihjDu19ruPZz5hZ4zNa3YN5bDktKdjsbeTh9f+at6nHgRs8b+lZz3PuasXGKpcG3V2IWHMADsWm5gxeJ23E63cFgsVxptt5j6gVrdRirL3aLm+5duvUMbOWTOuxumW4m+EwuEri908QZGSNy6RoFu3tXSa516CsFlrcQZVvB8FoXCVzrHS6cXMETTy1hwDyOwMF/KC6LAVhKinOVnyqhLJZTR4CoVUhEoFFUoqhASmiItIySwzBhENZTS0lQ0uhmAEjWucwkNc14s5u43aF85bwWCipo6Sma5sMWvQ1z3PI1vdI67nG56zisii9b5bdt8Xdel+Tzsju3Vz2v2C0fH+izCKqqdVyRSslkfxJRDM5kcj9iXuZY6XG1yW6bkknckreEXvFmyYncJOL9nR5yYoZFU0n9QsdmTBoK2mkpKlrnQS6NbWvcxx4b2yNs5u46zGrIoucZOLtcNHtpNUyxwDCYaSmipKdpbDCC2MOcXkAuLjdztzu4q+RElJydvlsJJKl6BERQSEREAREQBERAEREAREQBERAEREAREQBERARc3kPUqr5adgq3VE2iyxzC4qqmlppheOZpabbFp5te09jgQCPUuVc2YFidLVyUjqOpe4PLYXx08r2zsv1HxOYCHXFtgbg7Lra6qHJark8NP0OKMQFfTn+EQ1FJ/3mGWAG3OxkaNXsVI8Ueeckdu03Xa0jWuFnAOHcQCPqKhT7qWlo4cJDaehom1tXO2NtR4NAJooYxxZnslDNTXGzI735SleoY1N0jxOcoRtkOtraW15JNXovYE+xWFdm6niBETW3ts3/E2Wl4ZRyPcRK6Rrfym8/1rMwYFABq0mTuL9x9XJWY6LyVZ63wjEYxmaqqDZtw0/NYD+7tWNNFUHrlrh6Ttb69wtqazTsAB6ALfqVTa1lajgUeCpLLKTswmDYvVUzi5k0kb9raXc7fqWy0HSni0b2nWya1wGyNJG/Pt5+lYDEKUW2Fx393+SxMsLm77gd655MEfB7x6nJDsyVcP6QqSOjje+gp31wceJNI0yyPc5xcXapSRE3sAb2KxxHpWxCVojifFTMH5Nztty5AC3YFFpv7F9Ry6Tyuq708bLL102qRvsOMMldqqqmSocLnS4ubGHHt0tG5tcbq4q8xQxtJAbHcaQxpcTp799wo6dLvtt3EbHvXvT0UsguOX5Tj/AMlStOvQ8vVujP4pmuaVhgYSyJ3lC563rvsvTAnNjGpsga5w3IPZzssMzBn9r2j1AlfbcIkHJ4d6BcEr28HFI5/xDu2bUat5345VaOaomkEMHEnld5McLHSSu9UbAXH6lhujybh4rQS1TOJSQ1tO6pjlsY3RCZokD2vuHMAJJB2Nl3/SUkMLdEEccLByZCxsbfY1gAVaePZ3LmPI8itHM2SehrFaotfWg4fAdyZdLqgj0QB123/PsfQpjy30S4HSt61IyskIAdJWWnvb8mJ3UZ7At6uEBC5NnXaeVJTxxMbFDGyKNgsyONjY2NHc1jAA0epeoKpdLrywfSKl1S6kH0qKl1S6gg+kXzdLoSSqiItEyQiIgCIiAIiIAiIgCIiAIiIAiIgCIiAIiIAiIgCIiAIiIAiIgCIiAidrtgq6l4tdsPUq6lQo2LPbUqal5ak1ILPXUoy+6PpoH4SDJLFHPHOx9O17mh81wWSRxt5u6rtRtt1BdSRdcdZ6qnmvrDLPJVgVM0b5n31nRK9upoJ6jQRs0bAWtYK1pYXK/BV1WRKO1+piYR80Wae+3aP3r5lppWklkjjfm19iCfRtsvWn5HcOGxDgR1h3n0qplePmgj2rUMxmOqZyPxsZYfy29Zh9fcrYSsdycPrt+1ZSWcEbxvHqF/2LHyYfG/dv6rhGQfUUbTz39F+ax2L0zjyF2dw5hXRwmQbtc4d26+4aKpHaxw/JcCL+0Ly1ZJqktORyN/R2r4FI93Jp9uw+srd2xRDrTUwB7HR9do9fIhW0lI15JY4C/Ydv1Lm8Ys1ynwyxBedvyR2+srLxGwsAAFdjDX7Xtb2K5io4W7vd6h3/AFKVChZa0kJJueS9n2Js0e1X3gr3gaWtijHf5Th327FcQ0bAAOZHb3r3tIsxApeqb3+UdYEX7B2H613DlirMtDRTON3S0dNK4nmXSQMcT9ZK454YNRHH82FhkIHa5502PsB+tdg5cpPB6KjpgSeBS08NzzPCiYy5/sqjrfQ0NG+5k9SFy8y5fOpUGXGe10uvLUmpKIPW6pdeWpNSA9tSal46k1KRZ7EqmpeZcqalAJfREWgZQREQBERAEREAREQBERAEREAREQBERAEREAREQBERAEREAREQBERAQ412w9SrqVvG/YepfWpUTXPbUmpeGpU1oC5DlyLneiMWI18buyrqTY9zpnuH6nA+1dZa1zR06VDfv3VX02Ap2EgAdbweI3cRzdvzPoV3Rum0UtYuEyOZ6B7TrgeR26Tu31W7F90+K2Omdpid+ULlh9R7FcyFw3aLjuXhJMD5cR5XsRzA52HatCjPLxzgbEWsRsRuFbPi31DY+jkrKFkV/kJzGe2M8r92h37leRkjyi0Hvadj7OxLFH017xzcvRryBc7r4PW9PpBXzpeOW49OyA9vDBp07i5+tW5n7m+1VcLi9t15aX9jVAKgvce5X1PCxlies7vO5v8AuVvTQSXubiyu2Rk7Ab9pd2KUD2EpOxsL8gF7sAaLnkN1bmNrBqceXbf9ysp6kyXDdm+Q0evmfSpbFGVyw1hqWTTbRyTwl5HZEZG6rX7mrsNztyuPYISXRQR+W9zGNH5ziGgbemy67Btt3bfUs3Wd0aGjXDPbUqFy8tSoXKlRcPfUqFy8dSpqQg9tSXXjqTUvJB7FypqXnqVNSkNHtqTUvHUj3gAkmwAJudgLC9yT2I2QkTWi4A8dXNX0fl/3XEfiKeOrmr6Py/7riPxFaBmHf6LgDx1c1fR+X/dcR+Ip46uavo/L/uuI/EUB3+i4A8dXNX0fl/3XEfiKeOrmr6Py/wC64j8RQHf6LgDx1c1fR+X/AHXEfiKeOrmr6Py/7riPxFAd/ouAPHVzV9H5f91xH4injq5q+j8v+64j8RQHf6LgDx1c1fR+X/dcR+Ip46uavo/L/uuI/EUB3+i4A8dXNX0fl/3XEfiKeOrmr6Py/wC64j8RQHf6LgDx1c1fR+X/AHXEfiKeOrmr6Py/7riPxFAd/ouAPHVzV9H5f91xH4injq5q+j8v+64j8RQHf6LgDx1c1fR+X/dcR+Ip46uavo/L/uuI/EUB3+i4A8dXNX0fl/3XEfiKeOrmr6Py/wC64j8RQHf6LgDx1c1fR+X/AHXEfiKeOrmr6Py/7riPxFAd/ouAPHVzV9H5f91xH4injq5q+j8v+64j8RQHf6LgDx1c1fR+X/dcR+Ip46uavo/L/uuI/EUB3+i4A8dXNX0fl/3XEfiKeOrmr6Py/wC64j8RQHR7HbD1BV1LkQfdM495phH6Cs+2J4zWPeaYR+grPtirdJl/+IgdeakLlyH4zWPeaYR+grPtieM1j3mmEfoKz7YnSkP4iB1zLJZrj3An6gSuWsVr4qmWV8knEklc5zy8tJcTzPWsbf4LD1f3SmOvjfGaXCmiRjmFzYKsOAe0tJaTVkB2/ctCnz7Uv3dS0W/O0cwv/wDmVjCtvcr58inVG4V0b6d3IvhPIixLT3cyjSyQBwOrtBB3B/ctFmzdM4EeDUbb9rY5QR6QeKrUZjnBDmtja4drQ8X9Y12KtLKiptJAqsNik3LRf8obH6wsXJgDd7Syt/rA/tWvNznVD5kB9OmT90iOzlUn+Tp/7Mn/ABFPViNrM8zCJm/i6p49BH+a946WrHOq2/og79pC1n8MKn/Vwf2ZP+IqfhhU/kQf2ZP+Io6kBTNiLq8HYwvHq0n6l9R1teDd0DHf1mj/ANS1s5vqf9XB/Zk/4i+4851I/kqY+kskv/vFG+I2s2tmMVvmwHqLf3FXkFVVO6zmsiaO3mT6lpgzxVf6qm/sSf8AEVtVZuqn+UIrdwa4D/bU9SI2s3OoqnPdobd3Zsr+jpSzruO4BAbbtPbdaBSZwqY/Jjpz62SfukX1UZ0q382wt/mtkHs3k2TqobWdBdC2XJKmtiq3MvTUknEfK4dV8zBeKGO/lODixxtsA3fcgHoMuXEeR+mzFsMhlgpoKCSOWXikTx1L9LtIYdHDqWgAhovzJstg8ZrHvNMI/QVn2xUcqlN2XsOSEI0dd6lQuXIvjM495phH6Cs+2J4zOPeaYR+grPti5dKR0/iInXV0DlyL4zOPeaYR+grPtieMzj3mmEfoKz7YnSkOvE661JqXIvjM495phH6Cs+2J4zOPeaYR+grPtihYZD+Igddak1LkXxmce80wj9BWfbE8ZnHvNMI/QVn2xT0ZDrxOui5UJ2K5G8ZnHvNMI/QVn2xPGZx7zTCP0FZ9sUdGQ68CEURFbKIREQBERAEREAREQBERAEREAREQBERAEREAREQBERAEREAREQBERAEREAREQBERAEREAREQBERAEREAREQBERAEREAREQBERAEREAREQBERAEREAREQBERAEREAREQBERAEREAREQBERAEREAREQBERAEREAREQBERAEREAREQBERAEREAREQBERAEREAREQBERAEREAREQBERAEREAREQBERAEREAREQBERAEREAREQBERAEREAREQBERAEREAREQBERAEREAREQBERAEREAREQBERAEREAREQBERAEREAREQBERAEREAREQBERAEREAREQBERAf/Z\n",
          "text/html": "\n        <iframe\n            width=\"400\"\n            height=\"300\"\n            src=\"https://www.youtube.com/embed/CDyTP5Ao4Bs\"\n            frameborder=\"0\"\n            allowfullscreen\n            \n        ></iframe>\n        ",
          "text/plain": "<IPython.lib.display.YouTubeVideo at 0x105884700>"
         },
         "metadata": {},
         "output_type": "display_data"
        }
       ]
      }
     },
     "4101aa8e3801475bbccefc64b44e1815": {
      "model_module": "@jupyter-widgets/controls",
      "model_module_version": "2.0.0",
      "model_name": "FloatSliderModel",
      "state": {
       "behavior": "drag-tap",
       "layout": "IPY_MODEL_b8b972b416e94a849d19dbfe79ef4310",
       "readout": false,
       "step": 0.1,
       "style": "IPY_MODEL_9f68251083ac41db974dddd1f25c2241",
       "value": 50
      }
     },
     "4e35519f9e0a441b81f9184ff844ca07": {
      "model_module": "@jupyter-widgets/controls",
      "model_module_version": "2.0.0",
      "model_name": "VBoxModel",
      "state": {
       "children": [
        "IPY_MODEL_4101aa8e3801475bbccefc64b44e1815",
        "IPY_MODEL_9cc11233bf9c4d3090f135ef6cff4cf9"
       ],
       "layout": "IPY_MODEL_ca510bcf13804ccebdffe676ca98f847"
      }
     },
     "598eb74b1d164f07a441d5edd944d58a": {
      "model_module": "jupyter-leaflet",
      "model_module_version": "^0.17",
      "model_name": "LeafletAttributionControlModel",
      "state": {
       "_model_module_version": "^0.17",
       "_view_module_version": "^0.17",
       "options": [
        "position",
        "prefix"
       ],
       "position": "bottomright",
       "prefix": "ipyleaflet"
      }
     },
     "5feae7e58d6d45579a4adde89e1ea2bf": {
      "model_module": "jupyter-leaflet",
      "model_module_version": "^0.17",
      "model_name": "LeafletTileLayerModel",
      "state": {
       "_model_module_version": "^0.17",
       "_view_module_version": "^0.17",
       "attribution": "Map tiles by <a href=\"http://stamen.com\">Stamen Design</a>, <a href=\"http://creativecommons.org/licenses/by/3.0\">CC BY 3.0</a> &mdash; Map data &copy; <a href=\"https://www.openstreetmap.org/copyright\">OpenStreetMap</a> contributors",
       "base": true,
       "max_zoom": 16,
       "min_zoom": 1,
       "name": "Stamen.Watercolor",
       "options": [
        "attribution",
        "bounds",
        "detect_retina",
        "max_native_zoom",
        "max_zoom",
        "min_native_zoom",
        "min_zoom",
        "no_wrap",
        "tile_size",
        "tms",
        "zoom_offset"
       ],
       "url": "https://stamen-tiles-a.a.ssl.fastly.net/watercolor/{z}/{x}/{y}.jpg"
      }
     },
     "696ffd72aea14474aff5908af6ce784c": {
      "model_module": "jupyter-leaflet",
      "model_module_version": "^0.17",
      "model_name": "LeafletMapStyleModel",
      "state": {
       "_model_module_version": "^0.17",
       "cursor": "crosshair"
      }
     },
     "6ba17a3e3d8543b8873d1c059a710b80": {
      "model_module": "@jupyter-widgets/base",
      "model_module_version": "2.0.0",
      "model_name": "LayoutModel",
      "state": {
       "max_height": "400px",
       "overflow": "scroll",
       "width": "100%"
      }
     },
     "6d29dd6daab64ac696d7bbc9b220bee1": {
      "model_module": "ipytree",
      "model_module_version": "^0.2",
      "model_name": "NodeModel",
      "state": {
       "_id": "d8facb06-5ed4-4015-b12d-a28878d779d8",
       "_model_module_version": "^0.2",
       "_view_module_version": "^0.2",
       "disabled": true,
       "icon": "archive",
       "name": "Objects"
      }
     },
     "6f7b121b689b4697b091493365a121c4": {
      "model_module": "ipytree",
      "model_module_version": "^0.2",
      "model_name": "NodeModel",
      "state": {
       "_id": "53a61b2f-7527-4936-a0d9-fdae823131c7",
       "_model_module_version": "^0.2",
       "_view_module_version": "^0.2",
       "disabled": true,
       "icon": "archive",
       "name": "Pixels"
      }
     },
     "7ac2bbab393e4f7ba5403a7e58b6a586": {
      "model_module": "jupyter-leaflet",
      "model_module_version": "^0.17",
      "model_name": "LeafletZoomControlModel",
      "state": {
       "_model_module_version": "^0.17",
       "_view_module_version": "^0.17",
       "options": [
        "position",
        "zoom_in_text",
        "zoom_in_title",
        "zoom_out_text",
        "zoom_out_title"
       ]
      }
     },
     "7d92851d3c8649c49957933eeaca0bed": {
      "model_module": "ipytree",
      "model_module_version": "^0.2",
      "model_name": "NodeModel",
      "state": {
       "_id": "09de33d2-6da5-4034-b2c7-eb0b7c5d34aa",
       "_model_module_version": "^0.2",
       "_view_module_version": "^0.2",
       "icon": "map",
       "name": "Point"
      }
     },
     "7e9569c0a83d40909490b49770217a2b": {
      "model_module": "ipytree",
      "model_module_version": "^0.2",
      "model_name": "TreeModel",
      "state": {
       "_model_module_version": "^0.2",
       "_view_module_version": "^0.2",
       "layout": "IPY_MODEL_6ba17a3e3d8543b8873d1c059a710b80",
       "nodes": [
        "IPY_MODEL_7d92851d3c8649c49957933eeaca0bed",
        "IPY_MODEL_6f7b121b689b4697b091493365a121c4",
        "IPY_MODEL_6d29dd6daab64ac696d7bbc9b220bee1"
       ]
      }
     },
     "7fc71bf7e7ec4ebf96e38d9bf3a893fb": {
      "model_module": "jupyter-leaflet",
      "model_module_version": "^0.17",
      "model_name": "LeafletMapStyleModel",
      "state": {
       "_model_module_version": "^0.17",
       "cursor": "move"
      }
     },
     "9cc11233bf9c4d3090f135ef6cff4cf9": {
      "model_module": "@jupyter-widgets/controls",
      "model_module_version": "2.0.0",
      "model_name": "HBoxModel",
      "state": {
       "children": [
        "IPY_MODEL_32deae462c3c45c49159ca6c07a56f1d",
        "IPY_MODEL_a3f7c93c1930432e818aafefff31cf42"
       ],
       "layout": "IPY_MODEL_0337c842d35d498596e44f15179fe0b9"
      }
     },
     "9f68251083ac41db974dddd1f25c2241": {
      "model_module": "@jupyter-widgets/controls",
      "model_module_version": "2.0.0",
      "model_name": "SliderStyleModel",
      "state": {
       "description_width": ""
      }
     },
     "a3f7c93c1930432e818aafefff31cf42": {
      "model_module": "@jupyter-widgets/controls",
      "model_module_version": "2.0.0",
      "model_name": "TabModel",
      "state": {
       "children": [
        "IPY_MODEL_7e9569c0a83d40909490b49770217a2b",
        "IPY_MODEL_36ea5dae45cd44c6befc78adddf727a7"
       ],
       "layout": "IPY_MODEL_d4cae2b7108d445293baad410a6ed9b4",
       "selected_index": 1,
       "titles": [
        "Inspector",
        "Console"
       ]
      }
     },
     "a95c9c91bfeb4084aed8b7e902550ad1": {
      "model_module": "@jupyter-widgets/base",
      "model_module_version": "2.0.0",
      "model_name": "LayoutModel",
      "state": {
       "width": "100%"
      }
     },
     "b8b972b416e94a849d19dbfe79ef4310": {
      "model_module": "@jupyter-widgets/base",
      "model_module_version": "2.0.0",
      "model_name": "LayoutModel",
      "state": {
       "width": "100%"
      }
     },
     "ca510bcf13804ccebdffe676ca98f847": {
      "model_module": "@jupyter-widgets/base",
      "model_module_version": "2.0.0",
      "model_name": "LayoutModel",
      "state": {}
     },
     "d4cae2b7108d445293baad410a6ed9b4": {
      "model_module": "@jupyter-widgets/base",
      "model_module_version": "2.0.0",
      "model_name": "LayoutModel",
      "state": {
       "width": "50%"
      }
     }
    },
    "version_major": 2,
    "version_minor": 0
   }
  }
 },
 "nbformat": 4,
 "nbformat_minor": 5
}
