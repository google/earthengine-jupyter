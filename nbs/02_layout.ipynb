{
 "cells": [
  {
   "cell_type": "code",
   "execution_count": null,
   "id": "94288810-bd72-4341-8a86-96ae2ae5848d",
   "metadata": {},
   "outputs": [],
   "source": [
    "#|hide\n",
    "# Copyright 2022 Google LLC\n",
    "#\n",
    "# Licensed under the Apache License, Version 2.0 (the \"License\");\n",
    "# you may not use this file except in compliance with the License.\n",
    "# You may obtain a copy of the License at\n",
    "# \n",
    "#     https://www.apache.org/licenses/LICENSE-2.0\n",
    "# \n",
    "# Unless required by applicable law or agreed to in writing, software\n",
    "# distributed under the License is distributed on an \"AS IS\" BASIS,\n",
    "# WITHOUT WARRANTIES OR CONDITIONS OF ANY KIND, either express or implied.\n",
    "# See the License for the specific language governing permissions and\n",
    "# limitations under the License."
   ]
  },
  {
   "cell_type": "code",
   "execution_count": null,
   "id": "5bde49e7-42e2-4483-a14f-3f7ec7f32fc1",
   "metadata": {},
   "outputs": [],
   "source": [
    "#| default_exp layout"
   ]
  },
  {
   "cell_type": "markdown",
   "id": "7ace02d3-fb7d-4128-ba94-5c2a883b0fd2",
   "metadata": {},
   "source": [
    "# layout module\n",
    "\n",
    "> Provides panels of common layouts of map & inspector widgets."
   ]
  },
  {
   "cell_type": "code",
   "execution_count": null,
   "id": "b9f705ad-d869-413f-8eb6-3890a47d6440",
   "metadata": {},
   "outputs": [],
   "source": [
    "#|hide\n",
    "from nbdev.showdoc import *"
   ]
  },
  {
   "cell_type": "code",
   "execution_count": null,
   "id": "d5d1a7e1-46f9-4bc4-adbb-0db383d453b1",
   "metadata": {},
   "outputs": [],
   "source": [
    "#|export\n",
    "from ee_jupyter.ipyleaflet import Map\n",
    "from ee_jupyter.ipyleaflet import Inspector\n",
    "import ee\n",
    "import ipyleaflet\n",
    "import ipywidgets as widgets\n",
    "import logging"
   ]
  },
  {
   "cell_type": "code",
   "execution_count": null,
   "id": "b45a5144-7064-4e79-b8b2-8380a1424266",
   "metadata": {},
   "outputs": [],
   "source": [
    "logger = logging.getLogger()\n",
    "logger.setLevel(logging.WARNING)"
   ]
  },
  {
   "cell_type": "markdown",
   "id": "bbd4e260-f0a7-49e9-b61f-faeb6647a4f9",
   "metadata": {},
   "source": [
    "## Inspector layouts"
   ]
  },
  {
   "cell_type": "markdown",
   "id": "e69e6c11-318d-4375-b4cd-e91a787cae6f",
   "metadata": {},
   "source": [
    "### Map with Inspector"
   ]
  },
  {
   "cell_type": "code",
   "execution_count": null,
   "id": "da6d0c44-3929-4c6f-826c-ab73fe72efa9",
   "metadata": {},
   "outputs": [],
   "source": [
    "#|export\n",
    "class MapWithInspector(widgets.HBox):\n",
    "    \"\"\"A map with a tobbleable inspector.\"\"\"\n",
    "    \n",
    "    # Font Awesome icons: https://fontawesome.com/v4/examples/\n",
    "    ICON_INSPECTOR_SHOWN = 'info-circle 2x fw inverse'\n",
    "    ICON_INSPECTOR_HIDDEN = 'info-circle 2x fw'\n",
    "    \n",
    "    def __init__(self, **kwargs):\n",
    "        \n",
    "        self.map = Map(**kwargs)\n",
    "        \n",
    "        button_inspector_toggle = widgets.Button(\n",
    "            icon = self.ICON_INSPECTOR_SHOWN,\n",
    "            layout = widgets.Layout(width='45px', height='45px', padding='0px')\n",
    "        )\n",
    "            \n",
    "        def show_inspector(visible):\n",
    "            if visible:\n",
    "                self.inspector.layout.width = None\n",
    "                self.inspector.layout.min_width = f'300px'\n",
    "                self.inspector.disabled = False\n",
    "            else:\n",
    "                self.inspector.layout.width = f'0%'\n",
    "                self.inspector.layout.min_width = None\n",
    "                self.inspector.disabled = True\n",
    "        \n",
    "        def on_button_clicked(_b):\n",
    "            if _b.icon == self.ICON_INSPECTOR_HIDDEN:\n",
    "                show_inspector(False)\n",
    "                _b.icon = self.ICON_INSPECTOR_SHOWN\n",
    "            else:\n",
    "                show_inspector(True)\n",
    "                _b.icon = self.ICON_INSPECTOR_HIDDEN\n",
    "        button_inspector_toggle.on_click(on_button_clicked)\n",
    "        \n",
    "        widget_control1 = ipyleaflet.WidgetControl(widget=button_inspector_toggle,\n",
    "                                                   position='topright')\n",
    "        self.map.add_control(widget_control1)\n",
    "        self.inspector = Inspector(self.map)\n",
    "        \n",
    "        kwargs['children'] = [self.map, self.inspector]\n",
    "        show_inspector(False)\n",
    "        \n",
    "        super().__init__(**kwargs)"
   ]
  },
  {
   "cell_type": "code",
   "execution_count": null,
   "id": "eb92e252-d2dd-41ca-ac63-f5a9cb38a964",
   "metadata": {},
   "outputs": [
    {
     "data": {
      "application/vnd.jupyter.widget-view+json": {
       "model_id": "c474329320934bb786741496f4b2e247",
       "version_major": 2,
       "version_minor": 0
      },
      "text/plain": [
       "MapWithInspector(children=(Map(center=[37.5924, -122.09], controls=(ZoomControl(options=['position', 'zoom_in_…"
      ]
     },
     "execution_count": null,
     "metadata": {},
     "output_type": "execute_result"
    }
   ],
   "source": [
    "ee.Initialize()\n",
    "\n",
    "mt = MapWithInspector(center=(37.5924, -122.09), zoom=8)\n",
    "mt.map.addLayer(ee.Image.pixelLonLat(), {'min':-90, 'max':90, 'opacity':0.5}, 'LonLat')\n",
    "mt.map.addLayer(\n",
    "    ee.Image('LANDSAT/LC09/C02/T1_L2/LC09_187058_20220105'),\n",
    "    {'min':0, 'max':90, 'opacity':0.5},\n",
    "    'Landsat')\n",
    "mt"
   ]
  },
  {
   "cell_type": "code",
   "execution_count": null,
   "id": "8408c133-dced-405b-8f7f-f64fbfd9642b",
   "metadata": {},
   "outputs": [],
   "source": [
    "#| hide\n",
    "import nbdev; nbdev.nbdev_export()"
   ]
  }
 ],
 "metadata": {
  "kernelspec": {
   "display_name": "Python 3 (ipykernel)",
   "language": "python",
   "name": "python3"
  },
  "widgets": {
   "application/vnd.jupyter.widget-state+json": {
    "state": {
     "0cc30451b35142a89ad7260a50b3ecd0": {
      "model_module": "@jupyter-widgets/controls",
      "model_module_version": "2.0.0",
      "model_name": "ButtonStyleModel",
      "state": {
       "font_family": null,
       "font_size": null,
       "font_style": null,
       "font_variant": null,
       "font_weight": null,
       "text_color": null,
       "text_decoration": null
      }
     },
     "4178db5e93c24fe285ab5c8de395d4e8": {
      "model_module": "jupyter-leaflet",
      "model_module_version": "^0.17",
      "model_name": "LeafletTileLayerModel",
      "state": {
       "_model_module_version": "^0.17",
       "_view_module_version": "^0.17",
       "attribution": "Map tiles by <a href=\"http://stamen.com\">Stamen Design</a>, <a href=\"http://creativecommons.org/licenses/by/3.0\">CC BY 3.0</a> &mdash; Map data &copy; <a href=\"https://www.openstreetmap.org/copyright\">OpenStreetMap</a> contributors",
       "base": true,
       "max_zoom": 16,
       "min_zoom": 1,
       "name": "Stamen.Watercolor",
       "options": [
        "attribution",
        "bounds",
        "detect_retina",
        "max_native_zoom",
        "max_zoom",
        "min_native_zoom",
        "min_zoom",
        "no_wrap",
        "tile_size",
        "tms",
        "zoom_offset"
       ],
       "url": "https://stamen-tiles-a.a.ssl.fastly.net/watercolor/{z}/{x}/{y}.jpg"
      }
     },
     "53534ec9f00d4ee4b00618d098b4eed6": {
      "model_module": "jupyter-leaflet",
      "model_module_version": "^0.17",
      "model_name": "LeafletMapStyleModel",
      "state": {
       "_model_module_version": "^0.17",
       "cursor": "move"
      }
     },
     "5bc2bd37d158433ab16f67158b4acfa2": {
      "model_module": "@jupyter-widgets/base",
      "model_module_version": "2.0.0",
      "model_name": "LayoutModel",
      "state": {}
     },
     "5cc6e4e13e5340309ce47563eab7ff87": {
      "model_module": "jupyter-leaflet",
      "model_module_version": "^0.17",
      "model_name": "LeafletLayersControlModel",
      "state": {
       "_model_module_version": "^0.17",
       "_view_module_version": "^0.17",
       "options": [
        "position"
       ],
       "position": "topright"
      }
     },
     "688ae7f1b0e14ca699e60365abe5d744": {
      "model_module": "jupyter-leaflet",
      "model_module_version": "^0.17",
      "model_name": "LeafletZoomControlModel",
      "state": {
       "_model_module_version": "^0.17",
       "_view_module_version": "^0.17",
       "options": [
        "position",
        "zoom_in_text",
        "zoom_in_title",
        "zoom_out_text",
        "zoom_out_title"
       ]
      }
     },
     "6ae1710dd17d4bb28c25f9af8d6380b0": {
      "model_module": "jupyter-leaflet",
      "model_module_version": "^0.17",
      "model_name": "LeafletWidgetControlModel",
      "state": {
       "_model_module": "jupyter-leaflet",
       "_model_module_version": "^0.17",
       "_view_count": null,
       "_view_module": "jupyter-leaflet",
       "_view_module_version": "^0.17",
       "options": [
        "position",
        "transparent_bg"
       ],
       "position": "topright",
       "widget": "IPY_MODEL_c187c630cb174b58b4c5e14f538770c8"
      }
     },
     "75e5cc14d36045a5a2e1ff66fdcf2915": {
      "model_module": "ipytree",
      "model_module_version": "^0.2",
      "model_name": "TreeModel",
      "state": {
       "_model_module_version": "^0.2",
       "_view_module_version": "^0.2",
       "layout": "IPY_MODEL_f9d6a8de9a194df986d089fc83b10c90",
       "nodes": [
        "IPY_MODEL_c16f2f9faa8b4c17b7fa19066d6d01a5"
       ]
      }
     },
     "85ee00bc394f4972a0f4c42287eb11b7": {
      "model_module": "@jupyter-widgets/base",
      "model_module_version": "2.0.0",
      "model_name": "LayoutModel",
      "state": {
       "width": "100%"
      }
     },
     "863d890091314596b84d2bee16a183ba": {
      "model_module": "jupyter-leaflet",
      "model_module_version": "^0.17",
      "model_name": "LeafletTileLayerModel",
      "state": {
       "_model_module_version": "^0.17",
       "_view_module_version": "^0.17",
       "name": "Landsat",
       "options": [
        "attribution",
        "bounds",
        "detect_retina",
        "max_native_zoom",
        "max_zoom",
        "min_native_zoom",
        "min_zoom",
        "no_wrap",
        "tile_size",
        "tms",
        "zoom_offset"
       ],
       "url": "https://earthengine.googleapis.com/v1alpha/projects/earthengine-legacy/maps/6ad5740ea0606cba020bc83b7def6383-addc997e46b720e3de2bf0fad32d90fc/tiles/{z}/{x}/{y}"
      }
     },
     "8eeb65f9a988442da6d708344492188c": {
      "model_module": "jupyter-leaflet",
      "model_module_version": "^0.17",
      "model_name": "LeafletMapModel",
      "state": {
       "_model_module_version": "^0.17",
       "_view_module_version": "^0.17",
       "bottom": 25573,
       "center": [
        37.5924,
        -122.09
       ],
       "controls": [
        "IPY_MODEL_688ae7f1b0e14ca699e60365abe5d744",
        "IPY_MODEL_92752f9903ff497fb55ae42f3bff0066",
        "IPY_MODEL_5cc6e4e13e5340309ce47563eab7ff87",
        "IPY_MODEL_6ae1710dd17d4bb28c25f9af8d6380b0"
       ],
       "default_style": "IPY_MODEL_d4b9d765533c466fbeac4c50f671993c",
       "dragging_style": "IPY_MODEL_53534ec9f00d4ee4b00618d098b4eed6",
       "east": -119.65759277343751,
       "fullscreen": false,
       "interpolation": "bilinear",
       "layers": [
        "IPY_MODEL_4178db5e93c24fe285ab5c8de395d4e8",
        "IPY_MODEL_f1f4a37cf27743ee9e9c9865bb369240",
        "IPY_MODEL_863d890091314596b84d2bee16a183ba"
       ],
       "layout": "IPY_MODEL_85ee00bc394f4972a0f4c42287eb11b7",
       "left": 10099,
       "modisdate": "2023-01-10",
       "north": 38.45789034424927,
       "options": [
        "bounce_at_zoom_limits",
        "box_zoom",
        "center",
        "close_popup_on_click",
        "double_click_zoom",
        "dragging",
        "fullscreen",
        "inertia",
        "inertia_deceleration",
        "inertia_max_speed",
        "interpolation",
        "keyboard",
        "keyboard_pan_offset",
        "keyboard_zoom_offset",
        "max_zoom",
        "min_zoom",
        "prefer_canvas",
        "scroll_wheel_zoom",
        "tap",
        "tap_tolerance",
        "touch_zoom",
        "world_copy_jump",
        "zoom",
        "zoom_animation_threshold",
        "zoom_delta",
        "zoom_snap"
       ],
       "prefer_canvas": false,
       "right": 10985,
       "south": 36.71687068791304,
       "style": "IPY_MODEL_d4b9d765533c466fbeac4c50f671993c",
       "top": 25173,
       "west": -124.52453613281251,
       "window_url": "http://localhost:8888/lab/workspaces/auto-c/tree/google/earthengine-jupyter/nbs/02_layout.ipynb",
       "zoom": 8
      }
     },
     "92752f9903ff497fb55ae42f3bff0066": {
      "model_module": "jupyter-leaflet",
      "model_module_version": "^0.17",
      "model_name": "LeafletAttributionControlModel",
      "state": {
       "_model_module_version": "^0.17",
       "_view_module_version": "^0.17",
       "options": [
        "position",
        "prefix"
       ],
       "position": "bottomright",
       "prefix": "ipyleaflet"
      }
     },
     "c16f2f9faa8b4c17b7fa19066d6d01a5": {
      "model_module": "ipytree",
      "model_module_version": "^0.2",
      "model_name": "NodeModel",
      "state": {
       "_id": "768e2db7-3764-498a-b7f1-2af30814d2cb",
       "_model_module_version": "^0.2",
       "_view_module_version": "^0.2",
       "name": "Click on the map to inspect the layers."
      }
     },
     "c187c630cb174b58b4c5e14f538770c8": {
      "model_module": "@jupyter-widgets/controls",
      "model_module_version": "2.0.0",
      "model_name": "ButtonModel",
      "state": {
       "icon": "info-circle 2x fw inverse",
       "layout": "IPY_MODEL_d428a5a34b694e0b91e4c1b2bf97aabe",
       "style": "IPY_MODEL_0cc30451b35142a89ad7260a50b3ecd0",
       "tooltip": null
      }
     },
     "c474329320934bb786741496f4b2e247": {
      "model_module": "@jupyter-widgets/controls",
      "model_module_version": "2.0.0",
      "model_name": "HBoxModel",
      "state": {
       "children": [
        "IPY_MODEL_8eeb65f9a988442da6d708344492188c",
        "IPY_MODEL_75e5cc14d36045a5a2e1ff66fdcf2915"
       ],
       "layout": "IPY_MODEL_5bc2bd37d158433ab16f67158b4acfa2"
      }
     },
     "d428a5a34b694e0b91e4c1b2bf97aabe": {
      "model_module": "@jupyter-widgets/base",
      "model_module_version": "2.0.0",
      "model_name": "LayoutModel",
      "state": {
       "height": "45px",
       "padding": "0px",
       "width": "45px"
      }
     },
     "d4b9d765533c466fbeac4c50f671993c": {
      "model_module": "jupyter-leaflet",
      "model_module_version": "^0.17",
      "model_name": "LeafletMapStyleModel",
      "state": {
       "_model_module_version": "^0.17",
       "cursor": "crosshair"
      }
     },
     "d98341d8937c415fb4dd927cdfcf39e3": {
      "model_module": "jupyter-leaflet",
      "model_module_version": "^0.17",
      "model_name": "LeafletMapStyleModel",
      "state": {
       "_model_module_version": "^0.17"
      }
     },
     "f1f4a37cf27743ee9e9c9865bb369240": {
      "model_module": "jupyter-leaflet",
      "model_module_version": "^0.17",
      "model_name": "LeafletTileLayerModel",
      "state": {
       "_model_module_version": "^0.17",
       "_view_module_version": "^0.17",
       "name": "LonLat",
       "options": [
        "attribution",
        "bounds",
        "detect_retina",
        "max_native_zoom",
        "max_zoom",
        "min_native_zoom",
        "min_zoom",
        "no_wrap",
        "tile_size",
        "tms",
        "zoom_offset"
       ],
       "url": "https://earthengine.googleapis.com/v1alpha/projects/earthengine-legacy/maps/94684f9069ec559fbd6d13a6e0b6ee1c-7e24b2b1a47f6c5f67878705c73104be/tiles/{z}/{x}/{y}"
      }
     },
     "f9d6a8de9a194df986d089fc83b10c90": {
      "model_module": "@jupyter-widgets/base",
      "model_module_version": "2.0.0",
      "model_name": "LayoutModel",
      "state": {
       "max_height": "400px",
       "overflow": "scroll",
       "width": "0%"
      }
     }
    },
    "version_major": 2,
    "version_minor": 0
   }
  }
 },
 "nbformat": 4,
 "nbformat_minor": 5
}
