{
 "cells": [
  {
   "cell_type": "code",
   "execution_count": null,
   "id": "94288810-bd72-4341-8a86-96ae2ae5848d",
   "metadata": {},
   "outputs": [],
   "source": [
    "#|hide\n",
    "# Copyright 2022 Google LLC\n",
    "#\n",
    "# Licensed under the Apache License, Version 2.0 (the \"License\");\n",
    "# you may not use this file except in compliance with the License.\n",
    "# You may obtain a copy of the License at\n",
    "# \n",
    "#     https://www.apache.org/licenses/LICENSE-2.0\n",
    "# \n",
    "# Unless required by applicable law or agreed to in writing, software\n",
    "# distributed under the License is distributed on an \"AS IS\" BASIS,\n",
    "# WITHOUT WARRANTIES OR CONDITIONS OF ANY KIND, either express or implied.\n",
    "# See the License for the specific language governing permissions and\n",
    "# limitations under the License."
   ]
  },
  {
   "cell_type": "code",
   "execution_count": null,
   "id": "5bde49e7-42e2-4483-a14f-3f7ec7f32fc1",
   "metadata": {},
   "outputs": [],
   "source": [
    "#| default_exp layout"
   ]
  },
  {
   "cell_type": "markdown",
   "id": "7ace02d3-fb7d-4128-ba94-5c2a883b0fd2",
   "metadata": {},
   "source": [
    "# layout module\n",
    "\n",
    "> Provides panels of common layouts of map & inspector widgets."
   ]
  },
  {
   "cell_type": "code",
   "execution_count": null,
   "id": "b9f705ad-d869-413f-8eb6-3890a47d6440",
   "metadata": {},
   "outputs": [],
   "source": [
    "#|hide\n",
    "from nbdev.showdoc import *"
   ]
  },
  {
   "cell_type": "code",
   "execution_count": null,
   "id": "d5d1a7e1-46f9-4bc4-adbb-0db383d453b1",
   "metadata": {},
   "outputs": [],
   "source": [
    "#|export\n",
    "from ee_jupyter.ipyleaflet import Map\n",
    "from ee_jupyter.ipyleaflet import Inspector\n",
    "import ee\n",
    "import ipyleaflet\n",
    "import ipywidgets as widgets\n",
    "import logging"
   ]
  },
  {
   "cell_type": "code",
   "execution_count": null,
   "id": "b45a5144-7064-4e79-b8b2-8380a1424266",
   "metadata": {},
   "outputs": [],
   "source": [
    "logger = logging.getLogger()\n",
    "logger.setLevel(logging.WARNING)"
   ]
  },
  {
   "cell_type": "markdown",
   "id": "bbd4e260-f0a7-49e9-b61f-faeb6647a4f9",
   "metadata": {},
   "source": [
    "## Inspector layouts"
   ]
  },
  {
   "cell_type": "markdown",
   "id": "e69e6c11-318d-4375-b4cd-e91a787cae6f",
   "metadata": {},
   "source": [
    "### Map with Inspector"
   ]
  },
  {
   "cell_type": "code",
   "execution_count": null,
   "id": "da6d0c44-3929-4c6f-826c-ab73fe72efa9",
   "metadata": {},
   "outputs": [],
   "source": [
    "#|export\n",
    "class MapWithInspector(widgets.HBox):\n",
    "    \"\"\"A map with a tobbleable inspector.\"\"\"\n",
    "    \n",
    "    # Font Awesome icons: https://fontawesome.com/v4/examples/\n",
    "    ICON_INSPECTOR_SHOWN = 'info-circle 2x fw inverse'\n",
    "    ICON_INSPECTOR_HIDDEN = 'info-circle 2x fw'\n",
    "    \n",
    "    def __init__(self, **kwargs):\n",
    "        \n",
    "        self.map = Map(**kwargs)\n",
    "        \n",
    "        button_inspector_toggle = widgets.Button(\n",
    "            icon = self.ICON_INSPECTOR_SHOWN,\n",
    "            layout = widgets.Layout(width='45px', height='45px', padding='0px')\n",
    "        )\n",
    "            \n",
    "        def show_inspector(visible):\n",
    "            if visible:\n",
    "                self.inspector.layout.width = None\n",
    "                self.inspector.layout.min_width = f'300px'\n",
    "                self.inspector.disabled = False\n",
    "            else:\n",
    "                self.inspector.layout.width = f'0%'\n",
    "                self.inspector.layout.min_width = None\n",
    "                self.inspector.disabled = True\n",
    "        \n",
    "        def on_button_clicked(_b):\n",
    "            if _b.icon == self.ICON_INSPECTOR_HIDDEN:\n",
    "                show_inspector(False)\n",
    "                _b.icon = self.ICON_INSPECTOR_SHOWN\n",
    "            else:\n",
    "                show_inspector(True)\n",
    "                _b.icon = self.ICON_INSPECTOR_HIDDEN\n",
    "        button_inspector_toggle.on_click(on_button_clicked)\n",
    "        \n",
    "        widget_control1 = ipyleaflet.WidgetControl(widget=button_inspector_toggle,\n",
    "                                                   position='topright')\n",
    "        self.map.add_control(widget_control1)\n",
    "        self.inspector = Inspector(self.map)\n",
    "        \n",
    "        kwargs['children'] = [self.map, self.inspector]\n",
    "        show_inspector(False)\n",
    "        \n",
    "        super().__init__(**kwargs)"
   ]
  },
  {
   "cell_type": "code",
   "execution_count": null,
   "id": "eb92e252-d2dd-41ca-ac63-f5a9cb38a964",
   "metadata": {},
   "outputs": [],
   "source": [
    "ee.Initialize()\n",
    "\n",
    "mt = MapWithInspector(center=(37.5924, -122.09), zoom=8)\n",
    "mt.map.addLayer(ee.Image.pixelLonLat(), {'min':-90, 'max':90, 'opacity':0.5}, 'LonLat')\n",
    "mt.map.addLayer(\n",
    "    ee.Image('LANDSAT/LC09/C02/T1_L2/LC09_187058_20220105'),\n",
    "    {'min':0, 'max':90, 'opacity':0.5},\n",
    "    'Landsat')\n",
    "mt"
   ]
  },
  {
   "cell_type": "code",
   "execution_count": null,
   "id": "8408c133-dced-405b-8f7f-f64fbfd9642b",
   "metadata": {},
   "outputs": [],
   "source": [
    "#| hide\n",
    "import nbdev; nbdev.nbdev_export()"
   ]
  }
 ],
 "metadata": {
  "kernelspec": {
   "display_name": "Python 3 (ipykernel)",
   "language": "python",
   "name": "python3"
  },
  "widgets": {
   "application/vnd.jupyter.widget-state+json": {
    "state": {
     "0348e638d952476886c1b67898ce2efa": {
      "model_module": "@jupyter-widgets/controls",
      "model_module_version": "2.0.0",
      "model_name": "HBoxModel",
      "state": {
       "children": [
        "IPY_MODEL_4475643b95a645ef9dd0394099021742",
        "IPY_MODEL_060e7aa9d80a41ef96c4f3e1c4784cdb"
       ],
       "layout": "IPY_MODEL_a8a8fbbb1a344d06bfc8bfb3f5071260"
      }
     },
     "060e7aa9d80a41ef96c4f3e1c4784cdb": {
      "model_module": "ipytree",
      "model_module_version": "^0.2",
      "model_name": "TreeModel",
      "state": {
       "_model_module_version": "^0.2",
       "_view_module_version": "^0.2",
       "layout": "IPY_MODEL_ca0daae1124d4046ad85c02468a5d4cd",
       "nodes": [
        "IPY_MODEL_205b1e193efa4e7aa16aa7557f1d3e84"
       ]
      }
     },
     "09abd7603e1947ad9ea2e33c3a052f79": {
      "model_module": "@jupyter-widgets/controls",
      "model_module_version": "2.0.0",
      "model_name": "ButtonModel",
      "state": {
       "icon": "info-circle 2x fw inverse",
       "layout": "IPY_MODEL_369ad0d1a60b4823ae9d7b7bd8a3fae0",
       "style": "IPY_MODEL_a06a49b1f62b4560a16551db1afb383d",
       "tooltip": null
      }
     },
     "121ce27b46384c9e9cdd8690ee4f8233": {
      "model_module": "jupyter-leaflet",
      "model_module_version": "^0.17",
      "model_name": "LeafletTileLayerModel",
      "state": {
       "_model_module_version": "^0.17",
       "_view_module_version": "^0.17",
       "name": "LonLat",
       "options": [
        "attribution",
        "bounds",
        "detect_retina",
        "max_native_zoom",
        "max_zoom",
        "min_native_zoom",
        "min_zoom",
        "no_wrap",
        "tile_size",
        "tms",
        "zoom_offset"
       ],
       "url": "https://earthengine.googleapis.com/v1alpha/projects/earthengine-legacy/maps/94684f9069ec559fbd6d13a6e0b6ee1c-47daebef121db141d808c72d796843fa/tiles/{z}/{x}/{y}"
      }
     },
     "1aa0513de1d240d7ac0ed5276913584c": {
      "model_module": "jupyter-leaflet",
      "model_module_version": "^0.17",
      "model_name": "LeafletTileLayerModel",
      "state": {
       "_model_module_version": "^0.17",
       "_view_module_version": "^0.17",
       "attribution": "Map tiles by <a href=\"http://stamen.com\">Stamen Design</a>, <a href=\"http://creativecommons.org/licenses/by/3.0\">CC BY 3.0</a> &mdash; Map data &copy; <a href=\"https://www.openstreetmap.org/copyright\">OpenStreetMap</a> contributors",
       "base": true,
       "max_zoom": 16,
       "min_zoom": 1,
       "name": "Stamen.Watercolor",
       "options": [
        "attribution",
        "bounds",
        "detect_retina",
        "max_native_zoom",
        "max_zoom",
        "min_native_zoom",
        "min_zoom",
        "no_wrap",
        "tile_size",
        "tms",
        "zoom_offset"
       ],
       "url": "https://stamen-tiles-a.a.ssl.fastly.net/watercolor/{z}/{x}/{y}.jpg"
      }
     },
     "1d339c7b95cb4b6eb2d891acb9a530bd": {
      "model_module": "jupyter-leaflet",
      "model_module_version": "^0.17",
      "model_name": "LeafletZoomControlModel",
      "state": {
       "_model_module_version": "^0.17",
       "_view_module_version": "^0.17",
       "options": [
        "position",
        "zoom_in_text",
        "zoom_in_title",
        "zoom_out_text",
        "zoom_out_title"
       ]
      }
     },
     "205b1e193efa4e7aa16aa7557f1d3e84": {
      "model_module": "ipytree",
      "model_module_version": "^0.2",
      "model_name": "NodeModel",
      "state": {
       "_id": "c3987ec6-b01e-4ea4-91cc-fe0916058119",
       "_model_module_version": "^0.2",
       "_view_module_version": "^0.2",
       "name": "Click on the map to inspect the layers."
      }
     },
     "2ddbf75121c14d5bb7a9e5c846862ed4": {
      "model_module": "jupyter-leaflet",
      "model_module_version": "^0.17",
      "model_name": "LeafletMapStyleModel",
      "state": {
       "_model_module_version": "^0.17"
      }
     },
     "369ad0d1a60b4823ae9d7b7bd8a3fae0": {
      "model_module": "@jupyter-widgets/base",
      "model_module_version": "2.0.0",
      "model_name": "LayoutModel",
      "state": {
       "height": "45px",
       "padding": "0px",
       "width": "45px"
      }
     },
     "4475643b95a645ef9dd0394099021742": {
      "model_module": "jupyter-leaflet",
      "model_module_version": "^0.17",
      "model_name": "LeafletMapModel",
      "state": {
       "_model_module_version": "^0.17",
       "_view_module_version": "^0.17",
       "bottom": 25573,
       "center": [
        37.5924,
        -122.09
       ],
       "controls": [
        "IPY_MODEL_1d339c7b95cb4b6eb2d891acb9a530bd",
        "IPY_MODEL_a805777a1c7a420eb215fcc95e05f946",
        "IPY_MODEL_8cc930b450344fbbb377c4b48070e8b2",
        "IPY_MODEL_46a8df608a1f410aaeaaed4792610361"
       ],
       "default_style": "IPY_MODEL_51d11b01ff444bbba4da6337a723ae83",
       "dragging_style": "IPY_MODEL_d8c9de1b0ffb404aba9f15f8ece44906",
       "east": -119.65759277343751,
       "fullscreen": false,
       "interpolation": "bilinear",
       "layers": [
        "IPY_MODEL_1aa0513de1d240d7ac0ed5276913584c",
        "IPY_MODEL_121ce27b46384c9e9cdd8690ee4f8233",
        "IPY_MODEL_6b453cf26a674bd0816ffaa1b4abce61"
       ],
       "layout": "IPY_MODEL_50b2449c808e448196c573a1f49050da",
       "left": 10099,
       "modisdate": "2023-01-10",
       "north": 38.45789034424927,
       "options": [
        "bounce_at_zoom_limits",
        "box_zoom",
        "center",
        "close_popup_on_click",
        "double_click_zoom",
        "dragging",
        "fullscreen",
        "inertia",
        "inertia_deceleration",
        "inertia_max_speed",
        "interpolation",
        "keyboard",
        "keyboard_pan_offset",
        "keyboard_zoom_offset",
        "max_zoom",
        "min_zoom",
        "prefer_canvas",
        "scroll_wheel_zoom",
        "tap",
        "tap_tolerance",
        "touch_zoom",
        "world_copy_jump",
        "zoom",
        "zoom_animation_threshold",
        "zoom_delta",
        "zoom_snap"
       ],
       "prefer_canvas": false,
       "right": 10985,
       "south": 36.71687068791304,
       "style": "IPY_MODEL_2ddbf75121c14d5bb7a9e5c846862ed4",
       "top": 25173,
       "west": -124.52453613281251,
       "window_url": "http://localhost:8888/lab/workspaces/auto-c/tree/google/earthengine-jupyter/nbs/02_layout.ipynb",
       "zoom": 8
      }
     },
     "46a8df608a1f410aaeaaed4792610361": {
      "model_module": "jupyter-leaflet",
      "model_module_version": "^0.17",
      "model_name": "LeafletWidgetControlModel",
      "state": {
       "_model_module": "jupyter-leaflet",
       "_model_module_version": "^0.17",
       "_view_count": null,
       "_view_module": "jupyter-leaflet",
       "_view_module_version": "^0.17",
       "options": [
        "position",
        "transparent_bg"
       ],
       "position": "topright",
       "widget": "IPY_MODEL_09abd7603e1947ad9ea2e33c3a052f79"
      }
     },
     "50b2449c808e448196c573a1f49050da": {
      "model_module": "@jupyter-widgets/base",
      "model_module_version": "2.0.0",
      "model_name": "LayoutModel",
      "state": {
       "width": "100%"
      }
     },
     "51d11b01ff444bbba4da6337a723ae83": {
      "model_module": "jupyter-leaflet",
      "model_module_version": "^0.17",
      "model_name": "LeafletMapStyleModel",
      "state": {
       "_model_module_version": "^0.17",
       "cursor": "crosshair"
      }
     },
     "6b453cf26a674bd0816ffaa1b4abce61": {
      "model_module": "jupyter-leaflet",
      "model_module_version": "^0.17",
      "model_name": "LeafletTileLayerModel",
      "state": {
       "_model_module_version": "^0.17",
       "_view_module_version": "^0.17",
       "name": "Landsat",
       "options": [
        "attribution",
        "bounds",
        "detect_retina",
        "max_native_zoom",
        "max_zoom",
        "min_native_zoom",
        "min_zoom",
        "no_wrap",
        "tile_size",
        "tms",
        "zoom_offset"
       ],
       "url": "https://earthengine.googleapis.com/v1alpha/projects/earthengine-legacy/maps/6ad5740ea0606cba020bc83b7def6383-d6df261b4d34a08af9f991ac81f4f5c2/tiles/{z}/{x}/{y}"
      }
     },
     "8cc930b450344fbbb377c4b48070e8b2": {
      "model_module": "jupyter-leaflet",
      "model_module_version": "^0.17",
      "model_name": "LeafletLayersControlModel",
      "state": {
       "_model_module_version": "^0.17",
       "_view_module_version": "^0.17",
       "options": [
        "position"
       ],
       "position": "topright"
      }
     },
     "a06a49b1f62b4560a16551db1afb383d": {
      "model_module": "@jupyter-widgets/controls",
      "model_module_version": "2.0.0",
      "model_name": "ButtonStyleModel",
      "state": {
       "font_family": null,
       "font_size": null,
       "font_style": null,
       "font_variant": null,
       "font_weight": null,
       "text_color": null,
       "text_decoration": null
      }
     },
     "a805777a1c7a420eb215fcc95e05f946": {
      "model_module": "jupyter-leaflet",
      "model_module_version": "^0.17",
      "model_name": "LeafletAttributionControlModel",
      "state": {
       "_model_module_version": "^0.17",
       "_view_module_version": "^0.17",
       "options": [
        "position",
        "prefix"
       ],
       "position": "bottomright",
       "prefix": "ipyleaflet"
      }
     },
     "a8a8fbbb1a344d06bfc8bfb3f5071260": {
      "model_module": "@jupyter-widgets/base",
      "model_module_version": "2.0.0",
      "model_name": "LayoutModel",
      "state": {}
     },
     "ca0daae1124d4046ad85c02468a5d4cd": {
      "model_module": "@jupyter-widgets/base",
      "model_module_version": "2.0.0",
      "model_name": "LayoutModel",
      "state": {
       "max_height": "400px",
       "overflow": "scroll",
       "width": "0%"
      }
     },
     "d8c9de1b0ffb404aba9f15f8ece44906": {
      "model_module": "jupyter-leaflet",
      "model_module_version": "^0.17",
      "model_name": "LeafletMapStyleModel",
      "state": {
       "_model_module_version": "^0.17",
       "cursor": "move"
      }
     }
    },
    "version_major": 2,
    "version_minor": 0
   }
  }
 },
 "nbformat": 4,
 "nbformat_minor": 5
}
